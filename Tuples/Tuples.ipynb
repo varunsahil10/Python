{
 "cells": [
  {
   "cell_type": "code",
   "execution_count": null,
   "id": "b0eca4cf-b840-49af-b634-adba013fee86",
   "metadata": {},
   "outputs": [],
   "source": []
  }
 ],
 "metadata": {
  "kernelspec": {
   "display_name": "",
   "name": ""
  },
  "language_info": {
   "name": ""
  }
 },
 "nbformat": 4,
 "nbformat_minor": 5
}
