{
 "cells": [
  {
   "cell_type": "raw",
   "id": "4542fda3-86b1-440d-a937-cfdd7823532f",
   "metadata": {},
   "source": [
    "Print the following pattern for a given n.\n",
    "\n",
    "For eg. N = 6\n",
    "123456\n",
    "  23456\n",
    "    3456\n",
    "      456\n",
    "        56\n",
    "          6\n",
    "        56\n",
    "      456\n",
    "    3456\n",
    "  23456\n",
    "123456\n",
    "Sample Input 1 :\n",
    "4\n",
    "Sample Output 1 :\n",
    "1234\n",
    "  234\n",
    "    34\n",
    "      4\n",
    "    34\n",
    "  234\n",
    "1234"
   ]
  },
  {
   "cell_type": "code",
   "execution_count": 4,
   "id": "5bf61c87-a12c-43fc-be9e-8c753cb73f79",
   "metadata": {},
   "outputs": [
    {
     "name": "stdin",
     "output_type": "stream",
     "text": [
      " 5\n"
     ]
    },
    {
     "name": "stdout",
     "output_type": "stream",
     "text": [
      "12345\n",
      " 2345\n",
      "  345\n",
      "   45\n",
      "    5\n",
      "   45\n",
      "  345\n",
      " 2345\n",
      "12345\n"
     ]
    }
   ],
   "source": [
    "from math import *\n",
    "from collections import *\n",
    "from sys import *\n",
    "from os import *\n",
    "\n",
    "## Read input as specified in the question.\n",
    "## Print output as specified in the question.\n",
    "n = int(input())\n",
    "\n",
    "#upper pattern\n",
    "for i in range(n):\n",
    "    \n",
    "    #spaces\n",
    "    for spaces in range(i):\n",
    "        print(' ',end='')\n",
    "\n",
    "    #nums\n",
    "    for num in range(i+1,n+1):\n",
    "        print(num,end='')\n",
    "\n",
    "    print()\n",
    "\n",
    "\n",
    "#lower pattern\n",
    "for i in range(n-1):\n",
    "\n",
    "    #spaces\n",
    "    for spaces in range(n-i-2):\n",
    "        print(' ',end='')\n",
    "\n",
    "    #num\n",
    "    for num in range(n-i-1,n+1):\n",
    "        print(num,end='')\n",
    "\n",
    "    print()\n",
    "\n",
    "\n"
   ]
  },
  {
   "cell_type": "raw",
   "id": "ed3e27b8-873f-4c44-a4bd-635ef68fe4cb",
   "metadata": {},
   "source": [
    "Problem statement\n",
    "Print the following pattern for the given number of rows.\n",
    "\n",
    "Pattern for N = 4\n",
    "4444444\n",
    "4333334\n",
    "4322234\n",
    "4321234\n",
    "4322234\n",
    "4333334  \n",
    "4444444\n",
    "Input format : N (Total no. of rows)\n",
    "\n",
    "Output format : Pattern in N lines\n",
    "\n"
   ]
  },
  {
   "cell_type": "code",
   "execution_count": 122,
   "id": "3c92353d-bab2-48d7-838c-2a332861194f",
   "metadata": {},
   "outputs": [
    {
     "name": "stdin",
     "output_type": "stream",
     "text": [
      " 4\n"
     ]
    },
    {
     "name": "stdout",
     "output_type": "stream",
     "text": [
      "4444444\n",
      "4333334\n",
      "4322234\n",
      "4321234\n",
      "4322234\n",
      "4333334\n",
      "4444444\n"
     ]
    }
   ],
   "source": [
    "n = int(input())\n",
    "\n",
    "#upper half\n",
    "for i in range(n):\n",
    "    num = n - i\n",
    "\n",
    "    #left\n",
    "    for j in range(i+1):\n",
    "        print(n-j,end='')\n",
    "\n",
    "    for j in range(n-i-1):\n",
    "        print(num,end='')\n",
    "    \n",
    "    #right\n",
    "\n",
    "    #spaces\n",
    "    for j in range(1,n-i):\n",
    "        print(num,end='')\n",
    "\n",
    "    \n",
    "    #nums\n",
    "    for j in range(n-i,n):\n",
    "        print(j+1,end='')\n",
    "\n",
    "    \n",
    "    print()\n",
    "\n",
    "\n",
    "\n",
    "#lower half\n",
    "for i in range(n-1):\n",
    "    num = i + 2\n",
    "\n",
    "    #left\n",
    "    for j in range(n-i-1):\n",
    "        print(n-j,end='')\n",
    "\n",
    "    for j in range(n-i-1,n):\n",
    "        print(num,end='')\n",
    "    \n",
    "    #right\n",
    "\n",
    "    #spaces\n",
    "    for j in range(i):\n",
    "        print(num,end='')\n",
    "\n",
    "    \n",
    "    #nums\n",
    "    for j in range(num,n+1):\n",
    "        print(j,end='')\n",
    "\n",
    "    \n",
    "    print()\n",
    "\n"
   ]
  },
  {
   "cell_type": "raw",
   "id": "eeb2fd7d-9558-40d3-8057-b1d140234464",
   "metadata": {},
   "source": [
    "Problem statement\n",
    "Print the following pattern for the given number of rows.\n",
    "\n",
    "Pattern for N = 5\n",
    " 1    2   3    4   5\n",
    " 11   12  13   14  15\n",
    " 21   22  23   24  25\n",
    " 16   17  18   19  20\n",
    " 6    7    8   9   10\n",
    "Input format : N (Total no. of rows)\n",
    "\n",
    "Output format : Pattern in N lines\n",
    "\n"
   ]
  },
  {
   "cell_type": "code",
   "execution_count": 142,
   "id": "31e1579c-650d-4f2f-963e-0076c148bbbc",
   "metadata": {},
   "outputs": [
    {
     "name": "stdin",
     "output_type": "stream",
     "text": [
      " 4\n"
     ]
    },
    {
     "name": "stdout",
     "output_type": "stream",
     "text": [
      "1 2 3 4 \n",
      "9 10 11 12 \n",
      "13 14 15 16 \n",
      "5 6 7 8 \n"
     ]
    }
   ],
   "source": [
    "n = int(input())\n",
    "\n",
    "#upper\n",
    "for i in range(0,n,2):\n",
    "    for j in range(1, n+1):\n",
    "        print( (n * i) + j, end=' ')\n",
    "\n",
    "    print()\n",
    "\n",
    "#lower\n",
    "start = n-1 if n%2 == 0 else n-2\n",
    "for i in range(start,0,-2):\n",
    "    for j in range(1, n+1):\n",
    "        print( (n * i) + j, end=' ')\n",
    "\n",
    "    print()\n",
    "\n",
    "\n"
   ]
  }
 ],
 "metadata": {
  "kernelspec": {
   "display_name": "Python 3 (ipykernel)",
   "language": "python",
   "name": "python3"
  },
  "language_info": {
   "codemirror_mode": {
    "name": "ipython",
    "version": 3
   },
   "file_extension": ".py",
   "mimetype": "text/x-python",
   "name": "python",
   "nbconvert_exporter": "python",
   "pygments_lexer": "ipython3",
   "version": "3.12.7"
  }
 },
 "nbformat": 4,
 "nbformat_minor": 5
}
