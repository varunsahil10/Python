{
 "cells": [
  {
   "cell_type": "markdown",
   "id": "b3fbca5b-cd71-49e8-ab77-a34daba85d7d",
   "metadata": {},
   "source": [
    "Binary search"
   ]
  },
  {
   "cell_type": "code",
   "execution_count": 19,
   "id": "03a2e830-7ebd-4cc2-a57f-aefc4b39560f",
   "metadata": {},
   "outputs": [
    {
     "name": "stdout",
     "output_type": "stream",
     "text": [
      "6\n"
     ]
    }
   ],
   "source": [
    "def search(nums: [int], target: int):\n",
    "    # write your code logic !!\n",
    "    \n",
    "    mid = len(nums) // 2\n",
    "    start = 0\n",
    "    end = len(nums)-1\n",
    "\n",
    "    while start <= end:\n",
    "        mid = (start + end) // 2\n",
    "\n",
    "        if nums[mid] == target:\n",
    "            return mid\n",
    "\n",
    "        if nums[mid] > target:\n",
    "            end = mid - 1\n",
    "\n",
    "        elif nums[mid] < target:\n",
    "            start = mid + 1\n",
    "        \n",
    "    return -1\n",
    "\n",
    "\n",
    "li = [1,3,7,18,20,21,28,32]\n",
    "ele = 28\n",
    "ans = search(li,ele)\n",
    "\n",
    "print(ans)\n"
   ]
  },
  {
   "cell_type": "code",
   "execution_count": null,
   "id": "b9bf2d13-ace3-4a12-b0d6-e2b602240562",
   "metadata": {},
   "outputs": [],
   "source": []
  }
 ],
 "metadata": {
  "kernelspec": {
   "display_name": "Python 3 (ipykernel)",
   "language": "python",
   "name": "python3"
  },
  "language_info": {
   "codemirror_mode": {
    "name": "ipython",
    "version": 3
   },
   "file_extension": ".py",
   "mimetype": "text/x-python",
   "name": "python",
   "nbconvert_exporter": "python",
   "pygments_lexer": "ipython3",
   "version": "3.12.7"
  }
 },
 "nbformat": 4,
 "nbformat_minor": 5
}
