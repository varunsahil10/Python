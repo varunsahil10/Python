{
 "cells": [
  {
   "cell_type": "code",
   "execution_count": 2,
   "id": "705e4e2b-2269-4c97-b86d-a67e6bce0620",
   "metadata": {},
   "outputs": [
    {
     "name": "stdout",
     "output_type": "stream",
     "text": [
      "fdafdavxz\n"
     ]
    }
   ],
   "source": [
    "def replace(str,char1,char2):\n",
    "    \n",
    "    newStr=\"\"\n",
    "    for char in str:\n",
    "        if(char==char1):\n",
    "            newStr+=char2\n",
    "        else:\n",
    "            newStr+=char\n",
    "    return newStr\n",
    "    \n",
    "str=\"fsafsavxz\"\n",
    "str=replace(str,'s','d')\n",
    "print(str)"
   ]
  },
  {
   "cell_type": "code",
   "execution_count": null,
   "id": "6a905b2a-ac1a-4995-acf7-f0d26910e16f",
   "metadata": {},
   "outputs": [],
   "source": [
    "def countInString(str):\n",
    "    v,c,d,s=0,0,0,0\n",
    "    for char in str:\n",
    "        if((char>='a' and char<='z')or (char>='A' and char<='Z')):\n",
    "            char=char.lower()\n",
    "            if(char=='a' or char=='e' or char=='i' or char=='o' or char=='u'):\n",
    "                v+=1\n",
    "            else:\n",
    "                c+=1\n",
    "        elif(char>='0' and char<='9'):\n",
    "            d+=1\n",
    "        else:\n",
    "            s+=1\n",
    "    return v,c,d,s\n",
    "str='sfsaAFsawurioq2412141dsafd!@ afsa421'\n",
    "type(str[0])\n",
    "v,c,d,s=countInString(str)\n",
    "print(v,c,d,s)"
   ]
  },
  {
   "cell_type": "code",
   "execution_count": 6,
   "id": "21564b7d-1710-465b-bb22-096deda95361",
   "metadata": {},
   "outputs": [
    {
     "data": {
      "text/plain": [
       "[[1, 4, 3, 4], [1, 3, 2, 7]]"
      ]
     },
     "execution_count": 6,
     "metadata": {},
     "output_type": "execute_result"
    }
   ],
   "source": [
    "li=[[1,2,3,4],[5,6,7,8]]\n",
    "\n",
    "\n",
    "li[0]\n",
    "\n",
    "type(li[0])\n",
    "\n",
    "li[0][1]=4\n",
    "\n",
    "li\n",
    "\n",
    "id(li)\n",
    "\n",
    "id(li[0])\n",
    "\n",
    "id(li[1])\n",
    "\n",
    "li[1]=\"Parikh\"\n",
    "\n",
    "li\n",
    "\n",
    "li[1]=[1,3,2,7]\n",
    "\n",
    "li\n",
    "\n",
    "# li[0][5]"
   ]
  },
  {
   "cell_type": "markdown",
   "id": "4c4e3c3b-d602-4028-9b46-51ac80352589",
   "metadata": {},
   "source": [
    "Jagged list"
   ]
  },
  {
   "cell_type": "code",
   "execution_count": 12,
   "id": "e10cda2e-a215-4e20-bf4f-d5ab2cd06500",
   "metadata": {},
   "outputs": [
    {
     "data": {
      "text/plain": [
       "4"
      ]
     },
     "execution_count": 12,
     "metadata": {},
     "output_type": "execute_result"
    }
   ],
   "source": [
    "li=[[1,2,3,4],[5,6,7],[8,9],[10,11]]\n",
    "\n",
    "li[0]\n",
    "\n",
    "li[1]\n",
    "\n",
    "li[2]\n",
    "\n",
    "# li[2][3]\n",
    "\n",
    "li[0][3]"
   ]
  },
  {
   "cell_type": "code",
   "execution_count": 14,
   "id": "38c518fb-3586-4616-9392-dab67f6cd8ac",
   "metadata": {},
   "outputs": [
    {
     "name": "stdout",
     "output_type": "stream",
     "text": [
      "[1, 4, 9, 16]\n",
      "[6]\n",
      "[6]\n",
      "[2, 4]\n",
      "[2, 4]\n"
     ]
    },
    {
     "data": {
      "text/plain": [
       "[['P', 'a', 'r', 'i', 'k', 'h'],\n",
       " ['R', 'o', 'h', 'a', 'n'],\n",
       " ['A', 'n', 'k', 'u', 's', 'h']]"
      ]
     },
     "execution_count": 14,
     "metadata": {},
     "output_type": "execute_result"
    }
   ],
   "source": [
    "li=[1,2,3,4]\n",
    "li_new=[]\n",
    "for ele in li:\n",
    "    li_new.append(ele**2)\n",
    "print(li_new)\n",
    "\n",
    "li_new_c=[ele**2 for ele in li]\n",
    "\n",
    "li_new_c\n",
    "\n",
    "li_even_square=[ele**2 for ele in li if ele%2==0]\n",
    "\n",
    "li_even_square\n",
    "\n",
    "li_even_square=[]\n",
    "for ele in li:\n",
    "    if ele %2==0:\n",
    "        li_even_square.append(ele)\n",
    "\n",
    "li_even_square\n",
    "\n",
    "li=[1,2,3,4,5,6,7,8,9]\n",
    "li_new=[]\n",
    "for ele in li:\n",
    "    if ele%2==0:\n",
    "        if ele %3==0:\n",
    "            li_new.append(ele)\n",
    "print(li_new)\n",
    "\n",
    "li_new_2=[ele  for ele in li if ele%2==0 if ele%3==0]\n",
    "\n",
    "print(li_new_2)\n",
    "\n",
    "li_1=[1,2,3,4,5]\n",
    "li_2=[2,4,6,7]\n",
    "li_inter=[]\n",
    "for ele in li_1:\n",
    "    for ele_2 in li_2:\n",
    "        if ele==ele_2:\n",
    "            li_inter.append(ele)\n",
    "print(li_inter)\n",
    "\n",
    "li_1=[1,2,3,4,5]\n",
    "li_2=[2,4,6,7]\n",
    "li_inter=[ele for ele in li_1 for ele2 in li_2 if ele==ele2]\n",
    "\n",
    "print(li_inter)\n",
    "\n",
    "li=[1,2,3,4,5]\n",
    "li_inter=[ele**2 if ele%2==0 else ele for ele in li]\n",
    "\n",
    "li_inter\n",
    "\n",
    "s=\"Parikh\"\n",
    "li=[ele for ele in s]\n",
    "\n",
    "li\n",
    "\n",
    "li=[\"Parikh\",\"Rohan\",\"Ankush\"]\n",
    "l1_2d=[[s for s in ele]for ele in li]\n",
    "\n",
    "l1_2d"
   ]
  },
  {
   "cell_type": "code",
   "execution_count": 16,
   "id": "bdad8310-1f3e-4b0a-b40a-a8ae7ac4facb",
   "metadata": {},
   "outputs": [
    {
     "ename": "KeyboardInterrupt",
     "evalue": "Interrupted by user",
     "output_type": "error",
     "traceback": [
      "\u001b[1;31m---------------------------------------------------------------------------\u001b[0m",
      "\u001b[1;31mKeyboardInterrupt\u001b[0m                         Traceback (most recent call last)",
      "Cell \u001b[1;32mIn[16], line 1\u001b[0m\n\u001b[1;32m----> 1\u001b[0m \u001b[38;5;28mstr\u001b[39m\u001b[38;5;241m=\u001b[39m\u001b[38;5;28minput\u001b[39m()\u001b[38;5;241m.\u001b[39msplit()\n\u001b[0;32m      2\u001b[0m n,m\u001b[38;5;241m=\u001b[39m\u001b[38;5;28mint\u001b[39m(\u001b[38;5;28mstr\u001b[39m[\u001b[38;5;241m0\u001b[39m]),\u001b[38;5;28mint\u001b[39m(\u001b[38;5;28mstr\u001b[39m[\u001b[38;5;241m1\u001b[39m])\n\u001b[0;32m      3\u001b[0m b\u001b[38;5;241m=\u001b[39m\u001b[38;5;28minput\u001b[39m()\u001b[38;5;241m.\u001b[39msplit()\n",
      "File \u001b[1;32m~\\anaconda3\\Lib\\site-packages\\ipykernel\\kernelbase.py:1262\u001b[0m, in \u001b[0;36mKernel.raw_input\u001b[1;34m(self, prompt)\u001b[0m\n\u001b[0;32m   1260\u001b[0m     msg \u001b[38;5;241m=\u001b[39m \u001b[38;5;124m\"\u001b[39m\u001b[38;5;124mraw_input was called, but this frontend does not support input requests.\u001b[39m\u001b[38;5;124m\"\u001b[39m\n\u001b[0;32m   1261\u001b[0m     \u001b[38;5;28;01mraise\u001b[39;00m StdinNotImplementedError(msg)\n\u001b[1;32m-> 1262\u001b[0m \u001b[38;5;28;01mreturn\u001b[39;00m \u001b[38;5;28mself\u001b[39m\u001b[38;5;241m.\u001b[39m_input_request(\n\u001b[0;32m   1263\u001b[0m     \u001b[38;5;28mstr\u001b[39m(prompt),\n\u001b[0;32m   1264\u001b[0m     \u001b[38;5;28mself\u001b[39m\u001b[38;5;241m.\u001b[39m_parent_ident[\u001b[38;5;124m\"\u001b[39m\u001b[38;5;124mshell\u001b[39m\u001b[38;5;124m\"\u001b[39m],\n\u001b[0;32m   1265\u001b[0m     \u001b[38;5;28mself\u001b[39m\u001b[38;5;241m.\u001b[39mget_parent(\u001b[38;5;124m\"\u001b[39m\u001b[38;5;124mshell\u001b[39m\u001b[38;5;124m\"\u001b[39m),\n\u001b[0;32m   1266\u001b[0m     password\u001b[38;5;241m=\u001b[39m\u001b[38;5;28;01mFalse\u001b[39;00m,\n\u001b[0;32m   1267\u001b[0m )\n",
      "File \u001b[1;32m~\\anaconda3\\Lib\\site-packages\\ipykernel\\kernelbase.py:1305\u001b[0m, in \u001b[0;36mKernel._input_request\u001b[1;34m(self, prompt, ident, parent, password)\u001b[0m\n\u001b[0;32m   1302\u001b[0m \u001b[38;5;28;01mexcept\u001b[39;00m \u001b[38;5;167;01mKeyboardInterrupt\u001b[39;00m:\n\u001b[0;32m   1303\u001b[0m     \u001b[38;5;66;03m# re-raise KeyboardInterrupt, to truncate traceback\u001b[39;00m\n\u001b[0;32m   1304\u001b[0m     msg \u001b[38;5;241m=\u001b[39m \u001b[38;5;124m\"\u001b[39m\u001b[38;5;124mInterrupted by user\u001b[39m\u001b[38;5;124m\"\u001b[39m\n\u001b[1;32m-> 1305\u001b[0m     \u001b[38;5;28;01mraise\u001b[39;00m \u001b[38;5;167;01mKeyboardInterrupt\u001b[39;00m(msg) \u001b[38;5;28;01mfrom\u001b[39;00m \u001b[38;5;28;01mNone\u001b[39;00m\n\u001b[0;32m   1306\u001b[0m \u001b[38;5;28;01mexcept\u001b[39;00m \u001b[38;5;167;01mException\u001b[39;00m:\n\u001b[0;32m   1307\u001b[0m     \u001b[38;5;28mself\u001b[39m\u001b[38;5;241m.\u001b[39mlog\u001b[38;5;241m.\u001b[39mwarning(\u001b[38;5;124m\"\u001b[39m\u001b[38;5;124mInvalid Message:\u001b[39m\u001b[38;5;124m\"\u001b[39m, exc_info\u001b[38;5;241m=\u001b[39m\u001b[38;5;28;01mTrue\u001b[39;00m)\n",
      "\u001b[1;31mKeyboardInterrupt\u001b[0m: Interrupted by user"
     ]
    },
    {
     "name": "stdin",
     "output_type": "stream",
     "text": [
      " \n"
     ]
    }
   ],
   "source": [
    "str=input().split()\n",
    "n,m=int(str[0]),int(str[1])\n",
    "b=input().split()\n",
    "arr=[ [int(b[m*i+j])for j in range(m)]for i in range(n)]\n",
    "\n",
    "arr\n",
    "\n",
    "str=input().split()\n",
    "n,m=int(str[0]),int(str[1])\n",
    "b=str[2:]\n",
    "arr=[ [int(b[m*i+j])for j in range(m)]for i in range(n)]\n",
    "\n",
    "arr\n",
    "\n",
    "n\n",
    "\n",
    "m\n"
   ]
  },
  {
   "cell_type": "markdown",
   "id": "029bd5fb-bb72-499b-be47-33833546e671",
   "metadata": {},
   "source": [
    "Printing a 2D list"
   ]
  },
  {
   "cell_type": "code",
   "execution_count": null,
   "id": "31d6aea4-c102-4e0b-90d3-788506565730",
   "metadata": {},
   "outputs": [],
   "source": [
    "li=[[1,2,3,4],[5,6,7,8],[9,10,11,12]]\n",
    "\n",
    "n=3\n",
    "m=4\n",
    "\n",
    "for i in range(n):\n",
    "    for j in range(m):\n",
    "        print(li[i][j])\n",
    "\n",
    "\n",
    "for i in range(n):\n",
    "    for j in range(m):\n",
    "        print(li[i][j],end=' ')\n",
    "    print()\n",
    "\n",
    "li=[[1,2,3,4],[5,6],[9,10,11]]\n",
    "n=3\n",
    "for row in li:\n",
    "    for ele in row:\n",
    "        print(ele,end=' ')\n",
    "    print()\n",
    "\n",
    "'ab'.join('abcd')\n",
    "\n",
    "'ab'.join(['1','2','3'])\n",
    "\n",
    "li=[[1,2,3,4],[5,6],[9,10,11]]\n",
    "for row in li:\n",
    "    output=' '.join([str(ele) for ele in row])\n",
    "    print(output)"
   ]
  },
  {
   "cell_type": "markdown",
   "id": "64911861-b4aa-4b63-afc8-0a3893d87c90",
   "metadata": {},
   "source": [
    "Largest column sum"
   ]
  },
  {
   "cell_type": "code",
   "execution_count": null,
   "id": "efc901ba-260f-41a2-886f-c3b4ce4c3bb3",
   "metadata": {},
   "outputs": [],
   "source": [
    "def lar_Col_Sum(li):\n",
    "    n=len(li)\n",
    "    m=len(li[0])\n",
    "    max_sum=-1\n",
    "    max_col_Index=-1\n",
    "    for j in range(m):#going through each column\n",
    "        sum=0\n",
    "        for i in range(n):#gowing throw each row\n",
    "            sum+=li[i][j]\n",
    "        if sum>max_sum:\n",
    "            max_col_index=j\n",
    "            max_sum=sum\n",
    "    return max_sum,max_col_index\n",
    "        \n",
    "li=[[1,2,3,4],[8,7,6,5],[9,10,11,12]]\n",
    "lar_sum,lar_col_index=lar_Col_Sum(li)\n",
    "print(lar_sum,lar_col_index)\n",
    "\n",
    "\n",
    "def lar_Col_Sum(li):\n",
    "    n=len(li)\n",
    "    m=len(li[0])\n",
    "    max_sum=-1\n",
    "    max_col_Index=-1\n",
    "    for j in range(m):#going through each column\n",
    "        sum=0\n",
    "        for ele in li:\n",
    "            sum+=ele[j]\n",
    "        if sum>max_sum:\n",
    "            max_col_index=j\n",
    "            max_sum=sum\n",
    "    return max_sum,max_col_index\n",
    "        \n",
    "li=[[1,2,3,4],[8,7,6,5],[9,10,11,12]]\n",
    "lar_sum,lar_col_index=lar_Col_Sum(li)\n",
    "print(lar_sum,lar_col_index)"
   ]
  }
 ],
 "metadata": {
  "kernelspec": {
   "display_name": "Python 3 (ipykernel)",
   "language": "python",
   "name": "python3"
  },
  "language_info": {
   "codemirror_mode": {
    "name": "ipython",
    "version": 3
   },
   "file_extension": ".py",
   "mimetype": "text/x-python",
   "name": "python",
   "nbconvert_exporter": "python",
   "pygments_lexer": "ipython3",
   "version": "3.12.7"
  }
 },
 "nbformat": 4,
 "nbformat_minor": 5
}
