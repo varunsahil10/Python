{
 "cells": [
  {
   "cell_type": "raw",
   "id": "c5197b59-e996-424d-b49d-fc5fbdfb7ad5",
   "metadata": {},
   "source": [
    "Problem statement\n",
    "For a given two strings, 'str1' and 'str2', check whether they are a permutation of each other or not.\n",
    "\n",
    "Permutations of each other\n",
    "Two strings are said to be a permutation of each other when either of the string's characters can be rearranged so that it becomes identical to the other one.\n",
    "\n",
    "Example: \n",
    "str1= \"sinrtg\" \n",
    "str2 = \"string\"\n",
    "\n",
    "The character of the first string(str1) can be rearranged to form str2 and hence we can say that the given strings are a permutation of each other.\n"
   ]
  },
  {
   "cell_type": "code",
   "execution_count": 9,
   "id": "5dd0e3ec-41af-46b1-b4bd-731da302f503",
   "metadata": {},
   "outputs": [
    {
     "data": {
      "text/plain": [
       "0"
      ]
     },
     "execution_count": 9,
     "metadata": {},
     "output_type": "execute_result"
    }
   ],
   "source": [
    "a = [0]*26\n",
    "ord('a')-97"
   ]
  },
  {
   "cell_type": "code",
   "execution_count": 21,
   "id": "47415447-c0f6-41a1-b3e8-66dfddac237e",
   "metadata": {},
   "outputs": [
    {
     "data": {
      "text/plain": [
       "True"
      ]
     },
     "execution_count": 21,
     "metadata": {},
     "output_type": "execute_result"
    }
   ],
   "source": [
    "def isPermutation(string1, string2) :\n",
    "\t#Your code goes here\n",
    "\n",
    "    if len(string1) != len(string2):\n",
    "        return False\n",
    "\n",
    "    count = [0]*26\n",
    "\n",
    "    for ele in string1:\n",
    "        count[ord(ele)-97] += 1\n",
    "\n",
    "    for ele in string2:\n",
    "        count[ord(ele)-97] -= 1\n",
    "\n",
    "    for num in count:\n",
    "        if num != 0:\n",
    "            return False\n",
    "    return True\n",
    "\n",
    "string1 = 'abcdd'\n",
    "string2 = 'cbdad'\n",
    "isPermutation(string1, string2)"
   ]
  },
  {
   "cell_type": "raw",
   "id": "0a1e3fad-75c2-4b36-a403-e8ce63c88902",
   "metadata": {},
   "source": [
    "Problem statement\n",
    "Aadil has been provided with a sentence in the form of a string as a function parameter. The task is to implement a function so as to change the sentence such that each word in the sentence is reversed. A word is a combination of characters without any spaces.\n",
    "\n",
    "Example:\n",
    "Input Sentence: \"Hello I am Aadil\"\n",
    "The expected output will look, \"olleH I ma lidaA\".\n"
   ]
  },
  {
   "cell_type": "code",
   "execution_count": 31,
   "id": "dd1498a8-3c04-4833-9add-379b5ff5cdd0",
   "metadata": {},
   "outputs": [
    {
     "name": "stdout",
     "output_type": "stream",
     "text": [
      "0 7\n",
      "9 13\n"
     ]
    },
    {
     "data": {
      "text/plain": [
       "'1racecar kayak refer'"
      ]
     },
     "execution_count": 31,
     "metadata": {},
     "output_type": "execute_result"
    }
   ],
   "source": [
    "string = \"racecar1 kayak refer\"\n",
    "\n",
    "n = len(string)\n",
    "ans = \"\"\n",
    "flag = 0\n",
    "start = end = 0\n",
    "for i in range(n):\n",
    "    \n",
    "    if (string[i] == ' '):\n",
    "        end = i - 1\n",
    "        flag = 1\n",
    "        print(start,end)\n",
    "    elif (i == n - 1):\n",
    "        end = i\n",
    "        flag = 2\n",
    "\n",
    "    if flag:\n",
    "        #reverse the string and add to a new string\n",
    "        for j in range(end,start-1,-1):\n",
    "            ans += string[j]\n",
    "\n",
    "        ans += ' ' if flag == 1 else ''\n",
    "        \n",
    "        start = i + 1\n",
    "    flag = False\n",
    "\n",
    "ans"
   ]
  },
  {
   "cell_type": "raw",
   "id": "5c9efcdb-c13d-426d-900c-fd9f91825687",
   "metadata": {},
   "source": [
    "Problem statement\n",
    "For a given a string(str), find and return the highest occurring character.\n",
    "\n",
    "Example:\n",
    "Input String: \"abcdeapapqarr\"\n",
    "Expected Output: 'a'\n",
    "Since 'a' has appeared four times in the string which happens to be the highest frequency character, the answer would be 'a'.\n",
    "If there are two characters in the input string with the same frequency, return the character which comes first.\n",
    "\n",
    "Consider:\n",
    "Assume all the characters in the given string to be in lowercase always.\n"
   ]
  },
  {
   "cell_type": "code",
   "execution_count": 121,
   "id": "89b53735-a4dd-45b8-94fb-59f22fb5334b",
   "metadata": {},
   "outputs": [
    {
     "data": {
      "text/plain": [
       "'d'"
      ]
     },
     "execution_count": 121,
     "metadata": {},
     "output_type": "execute_result"
    }
   ],
   "source": [
    "from sys import maxsize\n",
    "def highestOccuringChar(string) :\n",
    "\t#Your code goes here\n",
    "\tn = len(string)\n",
    "\n",
    "\tcount = [0]*256\n",
    "\t\n",
    "\t#creating frequency array\n",
    "\tfor ele in string:\n",
    "\t\tcount[ord(ele)] += 1\n",
    "\n",
    "\tmaxval = -maxsize\n",
    "\tmaxindex = 0\n",
    "\n",
    "\t#finding max index and value\n",
    "\tfor i in range(256):\n",
    "\t\tif count[i] > maxval:\n",
    "\t\t\tmaxval = count[i]\n",
    "\t\t\tmaxindex = i\n",
    "\n",
    "    #to keep first element as the priority\n",
    "\tfor j in string:\n",
    "\t\tif count[ord(j)] == maxval:\n",
    "\t\t\tmaxindex = ord(j)\n",
    "\t\t\tbreak\n",
    "\t\n",
    "\treturn chr(maxindex)\n",
    "\n",
    "string = 'dddddaaabccaac'\n",
    "highestOccuringChar(string)"
   ]
  },
  {
   "cell_type": "raw",
   "id": "072bf661-9c67-40c2-b090-5851b2de77e0",
   "metadata": {},
   "source": [
    "Problem statement\n",
    "Write a program to do basic string compression. For a character which is consecutively repeated more than once, replace consecutive duplicate occurrences with the count of repetitions.\n",
    "\n",
    "Example:\n",
    "If a string has 'x' repeated 5 times, replace this \"xxxxx\" with \"x5\".\n",
    "The string is compressed only when the repeated character count is more than 1.\n",
    "Note:\n",
    "Consecutive count of every character in the input string is less than or equal to 9. You are not required to print anything. It has already been taken care of. Just implement the given function and return the compressed string.\n"
   ]
  },
  {
   "cell_type": "code",
   "execution_count": 34,
   "id": "bdab9525-9c04-4b6b-b569-91fbc3344084",
   "metadata": {},
   "outputs": [
    {
     "data": {
      "text/plain": [
       "'a2b2e2b3'"
      ]
     },
     "execution_count": 34,
     "metadata": {},
     "output_type": "execute_result"
    }
   ],
   "source": [
    "def getCompressedString(input) :\n",
    "\n",
    "    n = len(input)\n",
    "    ans = \"\"\n",
    "    i = j = 0\n",
    "    count = 0\n",
    "    while j<n:\n",
    "        if i == j:\n",
    "            ans += input[i]\n",
    "\n",
    "        if input[i] == input[j]:\n",
    "            count += 1\n",
    "            j += 1\n",
    "\n",
    "        else:\n",
    "            if count > 1:\n",
    "                ans += str(count)\n",
    "\n",
    "            count = 0\n",
    "            i = j\n",
    "\n",
    "        if j == n and count > 1:\n",
    "            ans += str(count)\n",
    "\n",
    "    return ans\n",
    "\n",
    "string = \"aabbeebbb\"\n",
    "getCompressedString(string)"
   ]
  }
 ],
 "metadata": {
  "kernelspec": {
   "display_name": "Python 3 (ipykernel)",
   "language": "python",
   "name": "python3"
  },
  "language_info": {
   "codemirror_mode": {
    "name": "ipython",
    "version": 3
   },
   "file_extension": ".py",
   "mimetype": "text/x-python",
   "name": "python",
   "nbconvert_exporter": "python",
   "pygments_lexer": "ipython3",
   "version": "3.12.7"
  }
 },
 "nbformat": 4,
 "nbformat_minor": 5
}
