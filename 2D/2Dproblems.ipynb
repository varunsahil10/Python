{
 "cells": [
  {
   "cell_type": "raw",
   "id": "20bca6ce-79e8-4833-b10f-16c4ba159898",
   "metadata": {},
   "source": [
    "Problem statement\n",
    "For a given two-dimensional integer array/list of size (N x M), find and print the sum of each of the row elements in a single line, separated by a single space.\n",
    "\n",
    "2\n",
    "2 5 \n",
    "4 5 3 2 6 \n",
    "7 5 3 8 9\n",
    "\n",
    "20 32 \n"
   ]
  },
  {
   "cell_type": "code",
   "execution_count": 28,
   "id": "b614d902-1bcc-44b1-a3d0-172e56acc6db",
   "metadata": {},
   "outputs": [
    {
     "name": "stdin",
     "output_type": "stream",
     "text": [
      " 3\n",
      " 2\n",
      " 1 2 \n",
      " 3 4\n",
      " 5 6\n"
     ]
    },
    {
     "name": "stdout",
     "output_type": "stream",
     "text": [
      "3 7 11 "
     ]
    }
   ],
   "source": [
    "def rowWiseSum(mat, nRows, mCols):\n",
    "    #Your code goes here\n",
    "    for row in range(nRows):\n",
    "        sum = 0\n",
    "        for col in range(mCols):\n",
    "            sum += mat[row][col]\n",
    "        print(sum,end=' ')\n",
    "\n",
    "n = int(input())\n",
    "m = int(input())\n",
    "matrix = [ [int(j) for j in input().split()] for i in range(n)]\n",
    "rowWiseSum(matrix, n, m)"
   ]
  },
  {
   "cell_type": "raw",
   "id": "317bc9d1-2613-4a01-aa07-9f5341c8c9a4",
   "metadata": {},
   "source": [
    "You are given a 2D list (array) with dimensions N rows and M columns, filled with integers. Your task is to find the row or column that has the largest sum of its elements.\n",
    "\n",
    "Important Rules:\n",
    "- If two or more rows/columns have the same sum, choose the one that comes first.\n",
    "- If a row and a column have the same largest sum, choose the row.\n",
    "Goal: Return which row or column has the largest sum.\n",
    "\n"
   ]
  },
  {
   "cell_type": "code",
   "execution_count": 30,
   "id": "b1d9860d-22a0-42f7-ab27-f98364188fbe",
   "metadata": {},
   "outputs": [],
   "source": [
    "from sys import stdin,maxsize\n",
    "\n",
    "def findLargest(arr, nRows, mCols):\n",
    "    #Your code goes here\n",
    "    highest = -2147483648\n",
    "    flag = False #false if row else true if column\n",
    "    index = 0\n",
    "\n",
    "    #check row\n",
    "    for i in range(nRows):\n",
    "        rowsum = 0\n",
    "        for j in range(mCols):\n",
    "            rowsum += arr[i][j]\n",
    "\n",
    "        if rowsum > highest:\n",
    "            highest = rowsum\n",
    "            index = i\n",
    "\n",
    "    #check col\n",
    "    for j in range(mCols):\n",
    "        colsum = 0\n",
    "        for i in range(nRows):\n",
    "            colsum += arr[i][j]\n",
    "\n",
    "        if colsum > highest:\n",
    "            highest = colsum\n",
    "            flag = True\n",
    "            index = j\n",
    "\n",
    "    if flag:\n",
    "        print(\"column\",end = ' ')\n",
    "    else:\n",
    "        print(\"row\",end = ' ')\n",
    "    print(str(index)+\" \"+str(highest))\n"
   ]
  },
  {
   "cell_type": "markdown",
   "id": "a9d79bcd-55af-4bff-a09f-566f0a804eec",
   "metadata": {},
   "source": [
    "### Test"
   ]
  },
  {
   "cell_type": "code",
   "execution_count": 7,
   "id": "a5a88c70-1d5d-4ff1-a23f-34eb17d9cbe9",
   "metadata": {},
   "outputs": [
    {
     "name": "stdin",
     "output_type": "stream",
     "text": [
      " 3\n",
      " 2\n",
      " 6 9\n",
      " 8 5\n",
      " 9 2\n"
     ]
    },
    {
     "name": "stdout",
     "output_type": "stream",
     "text": [
      "9 5 2 \n",
      "6 8 9 \n"
     ]
    }
   ],
   "source": [
    "from sys import stdin,maxsize\n",
    "\n",
    "n = int(input())\n",
    "m = int(input())\n",
    "matrix = [ [int(j) for j in input().split()] for i in range(n)]\n",
    "\n",
    "highest = -maxsize\n",
    "colsum = -maxsize\n",
    "\n",
    "#transpose matrix\n",
    "for j in range(m-1,-1,-1):\n",
    "    #start from last col\n",
    "    colsum = 0\n",
    "    for li in matrix:\n",
    "        colsum += li[j]\n",
    "        print(li[j],end=\" \")\n",
    "    print()\n"
   ]
  },
  {
   "cell_type": "code",
   "execution_count": 3,
   "id": "2654a478-b9fa-4a38-bb53-0e26375a0d93",
   "metadata": {},
   "outputs": [
    {
     "name": "stdin",
     "output_type": "stream",
     "text": [
      " 3\n",
      " 2\n",
      " 6 9\n",
      " 8 5\n",
      " 4 6\n"
     ]
    },
    {
     "name": "stdout",
     "output_type": "stream",
     "text": [
      "6 8 4 \n",
      "9 5 6 \n"
     ]
    }
   ],
   "source": [
    "from sys import stdin,maxsize\n",
    "\n",
    "n = int(input())\n",
    "m = int(input())\n",
    "matrix = [ [int(j) for j in input().split()] for i in range(n)]\n",
    "\n",
    "highest = -maxsize\n",
    "colsum = -maxsize\n",
    "\n",
    "#transpose matrix\n",
    "for j in range(m):\n",
    "    colsum = 0\n",
    "    for li in matrix:\n",
    "        colsum += li[j]\n",
    "        print(li[j],end=\" \")\n",
    "    print()\n"
   ]
  },
  {
   "cell_type": "code",
   "execution_count": 15,
   "id": "bd21c64d-e96a-4ba7-8441-6be25212a303",
   "metadata": {},
   "outputs": [
    {
     "name": "stdin",
     "output_type": "stream",
     "text": [
      " 3\n",
      " 2\n",
      " 6 9\n",
      " 8 5\n",
      " 4 6\n"
     ]
    },
    {
     "name": "stdout",
     "output_type": "stream",
     "text": [
      "column 1 20\n",
      "20\n",
      "True\n",
      "1\n"
     ]
    }
   ],
   "source": [
    "from sys import stdin,maxsize\n",
    "\n",
    "n = int(input())\n",
    "m = int(input())\n",
    "matrix = [ [int(j) for j in input().split()] for i in range(n)]\n",
    "\n",
    "highest = -maxsize\n",
    "flag = False #false if row else true if column\n",
    "index = -1\n",
    "\n",
    "#check row\n",
    "for i in range(n):\n",
    "    rowsum = 0\n",
    "    for j in range(m):\n",
    "        rowsum += matrix[i][j]\n",
    "\n",
    "    if rowsum > highest:\n",
    "        highest = rowsum\n",
    "        index = i\n",
    "\n",
    "#check col\n",
    "for j in range(m):\n",
    "    colsum = 0\n",
    "    for i in range(n):\n",
    "        colsum += matrix[i][j]\n",
    "\n",
    "    if colsum > highest:\n",
    "        highest = colsum\n",
    "        flag = True\n",
    "        index = j\n",
    "\n",
    "if flag:\n",
    "    print(\"column\",end = ' ')\n",
    "else:\n",
    "    print(\"row\",end = ' ')\n",
    "print(str(index)+\" \"+str(highest))\n"
   ]
  },
  {
   "cell_type": "code",
   "execution_count": null,
   "id": "0fbe27ce-7351-4654-9e85-4aa1dcc29d05",
   "metadata": {},
   "outputs": [],
   "source": []
  },
  {
   "cell_type": "code",
   "execution_count": 21,
   "id": "90082fee-0b8f-4260-bd4b-8d23aa5fbf4a",
   "metadata": {},
   "outputs": [
    {
     "name": "stdin",
     "output_type": "stream",
     "text": [
      " 4\n",
      " 3\n",
      " 1 2 3\n",
      " 4 5 6\n",
      " 7 8 9\n",
      " 10 11 12\n"
     ]
    },
    {
     "name": "stdout",
     "output_type": "stream",
     "text": [
      "outerloop\n",
      "1 loop1\n",
      "2 loop1\n",
      "3 loop1\n",
      "6 loop2\n",
      "9 loop2\n",
      "12 loop2\n",
      "11 loop3\n",
      "10 loop3\n",
      "7 loop4\n",
      "4 loop4\n",
      "outerloop\n",
      "5 loop1\n",
      "8 loop2\n"
     ]
    }
   ],
   "source": [
    "from sys import stdin\n",
    "\n",
    "def spiralPrint(mat, nRows, mCols):\n",
    "    #Your code goes here\n",
    "\n",
    "    elements = nRows * mCols\n",
    "\n",
    "    lowCol = lowRow = 0\n",
    "    upCol = mCols - 1\n",
    "    upRow = nRows - 1\n",
    "\n",
    "    while(elements):\n",
    "        print(\"outerloop\")\n",
    "        if elements:\n",
    "            # left to right\n",
    "            for j in range(lowCol, upCol+1, 1):\n",
    "                print(mat[lowRow][j], end=' ')\n",
    "                elements -= 1\n",
    "                print(\"loop1\")\n",
    "    \n",
    "            lowRow += 1\n",
    "\n",
    "        if elements:\n",
    "            #top to bottom\n",
    "            for i in range(lowRow, upRow+1, 1):\n",
    "                print(mat[i][upCol], end=' ')\n",
    "                elements -= 1\n",
    "                print(\"loop2\")\n",
    "    \n",
    "            upCol -= 1\n",
    "            \n",
    "        if elements:\n",
    "            #right to left\n",
    "            for j in range(upCol, lowCol-1, -1):\n",
    "                print(mat[upRow][j],end=' ')\n",
    "                elements -= 1\n",
    "                print(\"loop3\")\n",
    "    \n",
    "            upRow -= 1\n",
    "        \n",
    "        if elements:\n",
    "            #bottom to top\n",
    "            for i in range(upRow, lowRow-1, -1):\n",
    "                print(mat[i][lowCol],end=' ')\n",
    "                elements -= 1\n",
    "                print(\"loop4\")\n",
    "    \n",
    "            lowCol += 1\n",
    "        \n",
    "\n",
    "        \n",
    "\n",
    "#Taking Input\n",
    "\n",
    "nRows = int(input())\n",
    "mCols = int(input())\n",
    "\n",
    "mat = [[int(ele) for ele in input().split()] for i in range(nRows)]\n",
    "\n",
    "spiralPrint(mat, nRows, mCols)"
   ]
  },
  {
   "cell_type": "code",
   "execution_count": null,
   "id": "675f1043-bef4-4e4f-b664-0df5796732f6",
   "metadata": {},
   "outputs": [],
   "source": [
    "from sys import stdin\n",
    "\n",
    "def spiralPrint(mat, nRows, mCols):\n",
    "    #Your code goes here\n",
    "\n",
    "    elements = nRows * mCols\n",
    "\n",
    "    lowCol = lowRow = 0\n",
    "    upCol = mCols - 1\n",
    "    upRow = nRows - 1\n",
    "\n",
    "    while(elements):\n",
    "        print(\"outerloop\")\n",
    "        # left to right\n",
    "        for j in range(lowCol, upCol+1, 1):\n",
    "            print(mat[lowRow][j], end=' ')\n",
    "            elements -= 1\n",
    "            print(\"loop1\")\n",
    "\n",
    "        lowRow += 1\n",
    "\n",
    "        #top to bottom\n",
    "        for i in range(lowRow, upRow+1, 1):\n",
    "            print(mat[i][upCol], end=' ')\n",
    "            elements -= 1\n",
    "            print(\"loop2\")\n",
    "\n",
    "        upCol -= 1\n",
    "            \n",
    "        #right to left\n",
    "        for j in range(upCol, lowCol-1, -1):\n",
    "            print(mat[upRow][j],end=' ')\n",
    "            elements -= 1\n",
    "            print(\"loop3\")\n",
    "\n",
    "        upRow -= 1\n",
    "        \n",
    "        #bottom to top\n",
    "        for i in range(upRow, lowRow-1, -1):\n",
    "            print(mat[i][lowCol],end=' ')\n",
    "            elements -= 1\n",
    "            print(\"loop4\")\n",
    "\n",
    "        lowCol += 1\n",
    "        \n",
    "\n",
    "        \n",
    "\n",
    "#Taking Input\n",
    "\n",
    "nRows = int(input())\n",
    "mCols = int(input())\n",
    "\n",
    "mat = [[int(ele) for ele in input().split()] for i in range(nRows)]\n",
    "\n",
    "spiralPrint(mat, nRows, mCols)"
   ]
  },
  {
   "cell_type": "code",
   "execution_count": null,
   "id": "85024eec-2b0d-45f4-85cf-905ef63e0087",
   "metadata": {},
   "outputs": [],
   "source": []
  },
  {
   "cell_type": "code",
   "execution_count": 15,
   "id": "1e647fb3-fcfe-4209-b12c-be0f6f32f389",
   "metadata": {},
   "outputs": [
    {
     "name": "stdin",
     "output_type": "stream",
     "text": [
      " 4\n",
      " 3\n",
      " 1 2 3\n",
      " 4 5 6\n",
      " 7 8 9\n",
      " 10 11 12\n"
     ]
    },
    {
     "name": "stdout",
     "output_type": "stream",
     "text": [
      "1 2 3 "
     ]
    },
    {
     "ename": "IndexError",
     "evalue": "list index out of range",
     "output_type": "error",
     "traceback": [
      "\u001b[1;31m---------------------------------------------------------------------------\u001b[0m",
      "\u001b[1;31mIndexError\u001b[0m                                Traceback (most recent call last)",
      "Cell \u001b[1;32mIn[15], line 37\u001b[0m\n\u001b[0;32m     33\u001b[0m mCols \u001b[38;5;241m=\u001b[39m \u001b[38;5;28mint\u001b[39m(\u001b[38;5;28minput\u001b[39m())\n\u001b[0;32m     35\u001b[0m mat \u001b[38;5;241m=\u001b[39m [[\u001b[38;5;28mint\u001b[39m(ele) \u001b[38;5;28;01mfor\u001b[39;00m ele \u001b[38;5;129;01min\u001b[39;00m \u001b[38;5;28minput\u001b[39m()\u001b[38;5;241m.\u001b[39msplit()] \u001b[38;5;28;01mfor\u001b[39;00m i \u001b[38;5;129;01min\u001b[39;00m \u001b[38;5;28mrange\u001b[39m(nRows)]\n\u001b[1;32m---> 37\u001b[0m spiralPrint(mat, nRows, mCols)\n",
      "Cell \u001b[1;32mIn[15], line 12\u001b[0m, in \u001b[0;36mspiralPrint\u001b[1;34m(mat, nRows, mCols)\u001b[0m\n\u001b[0;32m      8\u001b[0m \u001b[38;5;28;01mwhile\u001b[39;00m top \u001b[38;5;241m<\u001b[39m bottom \u001b[38;5;129;01mand\u001b[39;00m left \u001b[38;5;241m<\u001b[39m right:\n\u001b[0;32m      9\u001b[0m   \n\u001b[0;32m     10\u001b[0m     \u001b[38;5;66;03m# Print top row from left to right\u001b[39;00m\n\u001b[0;32m     11\u001b[0m     \u001b[38;5;28;01mfor\u001b[39;00m i \u001b[38;5;129;01min\u001b[39;00m \u001b[38;5;28mrange\u001b[39m(left, right \u001b[38;5;241m+\u001b[39m \u001b[38;5;241m1\u001b[39m):\n\u001b[1;32m---> 12\u001b[0m         \u001b[38;5;28mprint\u001b[39m(mat[top][i], end\u001b[38;5;241m=\u001b[39m\u001b[38;5;124m\"\u001b[39m\u001b[38;5;124m \u001b[39m\u001b[38;5;124m\"\u001b[39m)\n\u001b[0;32m     13\u001b[0m     top \u001b[38;5;241m+\u001b[39m\u001b[38;5;241m=\u001b[39m \u001b[38;5;241m1\u001b[39m\n\u001b[0;32m     15\u001b[0m     \u001b[38;5;66;03m# Print right column from top to bottom\u001b[39;00m\n",
      "\u001b[1;31mIndexError\u001b[0m: list index out of range"
     ]
    }
   ],
   "source": [
    "def spiralPrint(mat, nRows, mCols):\n",
    "    #Your code goes here\n",
    "\n",
    "    # Initialize boundaries\n",
    "    top, bottom, left, right = 0, mCols - 1, 0, nRows - 1\n",
    "\n",
    "    # Iterate until all elements are printed\n",
    "    while top < bottom and left < right:\n",
    "      \n",
    "        # Print top row from left to right\n",
    "        for i in range(left, right + 1):\n",
    "            print(mat[top][i], end=\" \")\n",
    "        top += 1\n",
    "\n",
    "        # Print right column from top to bottom\n",
    "        for i in range(top, bottom + 1):\n",
    "            print(mat[i][right], end=\" \")\n",
    "        right -= 1\n",
    "\n",
    "        # Print bottom row from right to left (if exists)\n",
    "        if top <= bottom:\n",
    "            for i in range(right, left - 1, -1):\n",
    "                print(mat[bottom][i], end=\" \")\n",
    "            bottom -= 1\n",
    "\n",
    "        # Print left column from bottom to top (if exists)\n",
    "        if left <= right:\n",
    "            for i in range(bottom, top - 1, -1):\n",
    "                print(mat[i][left], end=\" \")\n",
    "            left += 1\n",
    "\n",
    "nRows = int(input())\n",
    "mCols = int(input())\n",
    "\n",
    "mat = [[int(ele) for ele in input().split()] for i in range(nRows)]\n",
    "\n",
    "spiralPrint(mat, nRows, mCols)"
   ]
  },
  {
   "cell_type": "code",
   "execution_count": null,
   "id": "d7af76b4-7f22-4b09-951b-5c30e03ef9ff",
   "metadata": {},
   "outputs": [],
   "source": []
  }
 ],
 "metadata": {
  "kernelspec": {
   "display_name": "Python 3 (ipykernel)",
   "language": "python",
   "name": "python3"
  },
  "language_info": {
   "codemirror_mode": {
    "name": "ipython",
    "version": 3
   },
   "file_extension": ".py",
   "mimetype": "text/x-python",
   "name": "python",
   "nbconvert_exporter": "python",
   "pygments_lexer": "ipython3",
   "version": "3.12.7"
  }
 },
 "nbformat": 4,
 "nbformat_minor": 5
}
