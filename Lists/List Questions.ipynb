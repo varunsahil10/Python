{
 "cells": [
  {
   "cell_type": "markdown",
   "id": "4c2d6d19-8a28-4611-af28-5f0247d0679a",
   "metadata": {},
   "source": [
    "Problem statement\n",
    "You have been given an integer array/list(ARR) of size N which contains numbers from 0 to (N - 2). Each number is present at least once. That is, if N = 5, the array/list constitutes values ranging from 0 to 3 and among these, there is a single integer value that is present twice. You need to find and return that duplicate number present in the array.\n",
    "\n",
    "Note :\n",
    "Duplicate number is always present in the given array/list.\n",
    "Detailed explanation ( Input/output format, Notes, Images )\n",
    "Constraints :\n",
    "1 <= t <= 10^2\n",
    "0 <= N <= 10^3\n",
    "Time Limit: 1 sec\n",
    "Sample Input 1:\n",
    "1\n",
    "9\n",
    "0 7 2 5 4 7 1 3 6\n",
    "Sample Output 1:\n",
    "7\n"
   ]
  },
  {
   "cell_type": "code",
   "execution_count": 4,
   "id": "99d1e5d3-7e91-4e8c-80e8-093084f0e7e4",
   "metadata": {},
   "outputs": [
    {
     "data": {
      "text/plain": [
       "1"
      ]
     },
     "execution_count": 4,
     "metadata": {},
     "output_type": "execute_result"
    }
   ],
   "source": [
    "def duplicateNumber(arr, size) :\n",
    "    # write your code logic \n",
    "    for i in range(size-1):\n",
    "        for j in range(i+1, size):\n",
    "            if arr[i] == arr[j]:\n",
    "                return arr[i]\n",
    "    \n",
    "    return -1\n",
    "\n",
    "arr = [0,2,1,3,1]\n",
    "size = 5\n",
    "duplicateNumber(arr, size)"
   ]
  },
  {
   "cell_type": "raw",
   "id": "97caec59-d534-46f3-9e0b-fcaf66141f90",
   "metadata": {},
   "source": [
    "Problem statement\n",
    "You have been given two integer arrays/list(ARR1 and ARR2) of size N and M, respectively. You need to print their intersection; An intersection for this problem can be defined when both the arrays/lists contain a particular value or to put it in other words, when there is a common value that exists in both the arrays/lists.\n",
    "\n",
    "Note :\n",
    "Input arrays/lists can contain duplicate elements.\n",
    "\n",
    "The intersection elements printed would be in the order they appear in the first array/list(ARR1)\n"
   ]
  },
  {
   "cell_type": "code",
   "execution_count": 6,
   "id": "93347b72-93cf-428d-bb63-e09e7b58703a",
   "metadata": {},
   "outputs": [
    {
     "data": {
      "text/plain": [
       "[9, 8]"
      ]
     },
     "execution_count": 6,
     "metadata": {},
     "output_type": "execute_result"
    }
   ],
   "source": [
    "def intersections(arr1, n, arr2, m) :\n",
    "    #Your code goes here\n",
    "    ans = []\n",
    "    for i in range(n):\n",
    "        for j in range(m):\n",
    "            if arr1[i] == arr2[j]:\n",
    "                ans.append(arr1[i])\n",
    "    \n",
    "    return ans\n",
    "\n",
    "n = 4\n",
    "arr1 = [6, 9, 8, 5]\n",
    "m = 5\n",
    "arr2 = [9, 2, 4, 1, 8]\n",
    "\n",
    "intersections(arr1, n, arr2, m)"
   ]
  },
  {
   "cell_type": "code",
   "execution_count": 16,
   "id": "350bb8d5-81b1-4e71-9a00-c87b1dfae674",
   "metadata": {},
   "outputs": [
    {
     "name": "stdout",
     "output_type": "stream",
     "text": [
      "2 2 3 "
     ]
    }
   ],
   "source": [
    "\n",
    "import sys\n",
    "\n",
    "def intersections(arr1, n, arr2, m) :\n",
    "    #Your code goes here\n",
    "    for i in range(n):\n",
    "        for j in range(m):\n",
    "            if arr1[i] == arr2[j]:\n",
    "                print(arr1[i],end=' ')\n",
    "                arr2[j] = sys.maxsize\n",
    "                break\n",
    "n = 5\n",
    "arr1 = [2,6,2,3,2]\n",
    "m = 3\n",
    "arr2 = [3,2,2]\n",
    "intersections(arr1, n, arr2, m)"
   ]
  },
  {
   "cell_type": "markdown",
   "id": "94974237-ec82-4ed2-b173-124723e16ed1",
   "metadata": {},
   "source": [
    "Problem statement\n",
    "You have been given an integer array/list(ARR) and a number X. Find and return the total number of pairs in the array/list which sum to X.\n",
    "\n",
    "Note:\n",
    "Given array/list can contain duplicate elements. \n"
   ]
  },
  {
   "cell_type": "code",
   "execution_count": 44,
   "id": "32644974-017c-4ba0-9a04-2e6292a8b451",
   "metadata": {},
   "outputs": [
    {
     "data": {
      "text/plain": [
       "128"
      ]
     },
     "execution_count": 44,
     "metadata": {},
     "output_type": "execute_result"
    }
   ],
   "source": [
    "def pairSum(arr, n, x) :\n",
    "    #Your code goes here\n",
    "    count = 0\n",
    "    for i in range(n):\n",
    "        for j in range(i+1,n):\n",
    "            if i == j:\n",
    "                continue\n",
    "            elif arr[i] + arr[j] == x:\n",
    "                count += 1\n",
    "    \n",
    "    return count\n",
    "\n",
    "n = 1000\n",
    "arr = []\n",
    "for i in range(n):\n",
    "    arr.append(i)\n",
    "x = 256\n",
    "# print(arr)\n",
    "pairSum(arr, n, x)"
   ]
  },
  {
   "cell_type": "markdown",
   "id": "cdb2ddaf-7c6b-4d9f-b778-d19c8dd25d06",
   "metadata": {},
   "source": [
    "Problem statement\n",
    "You have been given an integer array/list(ARR) of size N that contains only integers, 0 and 1. Write a function to sort this array/list. Think of a solution which scans the array/list only once and don't require use of an extra array/list.\n",
    "\n",
    "Note:\n",
    "You need to change in the given array/list itself. Hence, no need to return or print anything. \n"
   ]
  },
  {
   "cell_type": "code",
   "execution_count": 48,
   "id": "1a2dd7ca-4016-4e5b-a41b-e2ae2430f216",
   "metadata": {},
   "outputs": [
    {
     "name": "stdin",
     "output_type": "stream",
     "text": [
      " 7\n",
      " 0 1 1 0 1 0 1\n"
     ]
    },
    {
     "name": "stdout",
     "output_type": "stream",
     "text": [
      "[0, 1, 1, 0, 1, 0, 1]\n"
     ]
    }
   ],
   "source": [
    "def sortZeroesAndOne(arr, n) :\n",
    "    # write your code here \n",
    "    start = arr[0]\n",
    "    end = arr[n-1]\n",
    "    while start < end:\n",
    "        if arr[start] == 0:\n",
    "            start += 1\n",
    "        if arr[end] == 1:\n",
    "            end -= 1\n",
    "        else:\n",
    "            arr[start], arr[end] = arr[end], arr[start]\n",
    "\n",
    "n = int(input())\n",
    "arr = [int(ele) for ele in input().split()]\n",
    "sortZeroesAndOne(arr, n)\n",
    "print(arr)"
   ]
  },
  {
   "cell_type": "code",
   "execution_count": 54,
   "id": "e5320fe7-1be9-4770-88fa-03a12ed1ac77",
   "metadata": {},
   "outputs": [
    {
     "name": "stdin",
     "output_type": "stream",
     "text": [
      " 7\n",
      " 0 1 1 0 1 0 1\n"
     ]
    },
    {
     "name": "stdout",
     "output_type": "stream",
     "text": [
      "[0, 0, 0, 1, 1, 1, 1]\n"
     ]
    }
   ],
   "source": [
    "def sortZeroesAndOne(arr, n) :\n",
    "    # write your code here \n",
    "    zerohere = 0\n",
    "    for i in range(n):\n",
    "        if arr[i] == 0:\n",
    "            arr[zerohere], arr[i] = arr[i], arr[zerohere]\n",
    "            zerohere += 1\n",
    "n = int(input())\n",
    "arr = [int(ele) for ele in input().split()]\n",
    "sortZeroesAndOne(arr, n)\n",
    "print(arr)            "
   ]
  }
 ],
 "metadata": {
  "kernelspec": {
   "display_name": "Python 3 (ipykernel)",
   "language": "python",
   "name": "python3"
  },
  "language_info": {
   "codemirror_mode": {
    "name": "ipython",
    "version": 3
   },
   "file_extension": ".py",
   "mimetype": "text/x-python",
   "name": "python",
   "nbconvert_exporter": "python",
   "pygments_lexer": "ipython3",
   "version": "3.12.7"
  }
 },
 "nbformat": 4,
 "nbformat_minor": 5
}
