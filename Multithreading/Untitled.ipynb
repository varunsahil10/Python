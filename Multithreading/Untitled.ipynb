{
 "cells": [
  {
   "cell_type": "code",
   "execution_count": 21,
   "id": "89881ed8-10dc-4dce-afe4-ec7219e55d92",
   "metadata": {},
   "outputs": [
    {
     "name": "stdout",
     "output_type": "stream",
     "text": [
      "Doing something!\n",
      "Time taken by function: doSomething = 4.001181364059448\n"
     ]
    }
   ],
   "source": [
    "#multithreading\n",
    "from threading import Thread\n",
    "from time import sleep,time\n",
    "\n",
    "def calculate_time(func):\n",
    "    def wrapper():\n",
    "        start_time = time()\n",
    "        func()\n",
    "        end_time = time()\n",
    "\n",
    "        print(f\"Time taken by function: {func.__name__} = {end_time - start_time}\")\n",
    "    return wrapper\n",
    "\n",
    "@calculate_time\n",
    "def doSomething():\n",
    "    sleep(4)\n",
    "    print(\"Doing something!\")\n",
    "    \n",
    "t1 = Thread(target = doSomething)\n",
    "t1.start()\n",
    "t1.join()\n",
    "\n",
    "# for i in range(2,10):\n",
    "#     print(i)\n",
    "\n",
    "\n",
    "# doSomething()"
   ]
  },
  {
   "cell_type": "code",
   "execution_count": 43,
   "id": "f3229448-fed6-4361-b1fd-2e15e1492790",
   "metadata": {},
   "outputs": [
    {
     "name": "stdout",
     "output_type": "stream",
     "text": [
      "Doing something with val:2\n",
      "Done!!!!\n",
      "Doing something with val:2\n",
      "Done!!!!\n",
      "Doing something with val:3\n",
      "Done!!!!\n",
      "Total time taken = 12.002394676208496\n"
     ]
    }
   ],
   "source": [
    "#multithreading\n",
    "from threading import Thread\n",
    "from time import sleep,time\n",
    "\n",
    "\n",
    "def doSomething(val):\n",
    "    \n",
    "    print(f\"Doing something with val:{val}\")\n",
    "    sleep(4)\n",
    "    print(\"Done!!!!\")\n",
    "\n",
    "total_time_start = time()\n",
    "\n",
    "t1 = Thread(target = doSomething, args = ())\n",
    "doSomething(1)\n",
    "doSomething(2)\n",
    "doSomething(3)\n",
    "\n",
    "total_time_end = time()\n",
    "total_time = total_time_end - total_time_start\n",
    "print(f\"Total time taken = {total_time}\")"
   ]
  }
 ],
 "metadata": {
  "kernelspec": {
   "display_name": "Python 3 (ipykernel)",
   "language": "python",
   "name": "python3"
  },
  "language_info": {
   "codemirror_mode": {
    "name": "ipython",
    "version": 3
   },
   "file_extension": ".py",
   "mimetype": "text/x-python",
   "name": "python",
   "nbconvert_exporter": "python",
   "pygments_lexer": "ipython3",
   "version": "3.12.7"
  }
 },
 "nbformat": 4,
 "nbformat_minor": 5
}
