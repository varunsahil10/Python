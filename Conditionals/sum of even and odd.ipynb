{
 "cells": [
  {
   "cell_type": "markdown",
   "id": "fd7eda51-6066-4885-b36e-9c66a84141a7",
   "metadata": {},
   "source": [
    "Write a program to input an integer 'n' and print the sum of all its even digits and the sum of all its odd digits separately.\n",
    "\n",
    "\n",
    "\n",
    "Digits mean numbers, not places! That is, if the given integer is \"132456\", even digits are 2, 4, and 6, and odd digits are 1, 3, and 5.\n",
    "\n",
    "Constraints\n",
    "0<= 'n' <=10000\n",
    "\n",
    "\n",
    "Example :\n",
    "Input: 'n' = 132456\n",
    "\n",
    "Output: 12 9\n",
    "\n",
    "Explanation:\n",
    "The sum of even digits = 2 + 4 + 6 = 12\n",
    "The sum of odd digits = 1 + 3 + 5 = 9\n",
    "Constraints\n",
    "0<= 'n' <=10000\n",
    "\n",
    "\n",
    "Example :\n",
    "Input: 'n' = 132456\n",
    "\n",
    "Output: 12 9\n",
    "\n",
    "Explanation:\n",
    "The sum of even digits = 2 + 4 + 6 = 12\n",
    "The sum of odd digits = 1 + 3 + 5 = 9\n",
    "Input format :\n",
    " The first line contains an integer 'n'.\n",
    "Output format :\n",
    "In a single line, print two space-separated integers, first the sum of even digits and then the sum of odd digits.\n"
   ]
  },
  {
   "cell_type": "code",
   "execution_count": 6,
   "id": "9c3b6a82-b043-49cd-b2b0-3d1b4e158a91",
   "metadata": {},
   "outputs": [
    {
     "name": "stdin",
     "output_type": "stream",
     "text": [
      " 123654\n"
     ]
    },
    {
     "name": "stdout",
     "output_type": "stream",
     "text": [
      "12   9\n"
     ]
    }
   ],
   "source": [
    "n = int(input())\n",
    "e = o = 0\n",
    "while n:\n",
    "    last = n%10\n",
    "    if last%2 == 0:\n",
    "        e += last\n",
    "    else:\n",
    "        o += last\n",
    "    n //=10\n",
    "\n",
    "print(e,\" \",o)"
   ]
  }
 ],
 "metadata": {
  "kernelspec": {
   "display_name": "Python 3 (ipykernel)",
   "language": "python",
   "name": "python3"
  },
  "language_info": {
   "codemirror_mode": {
    "name": "ipython",
    "version": 3
   },
   "file_extension": ".py",
   "mimetype": "text/x-python",
   "name": "python",
   "nbconvert_exporter": "python",
   "pygments_lexer": "ipython3",
   "version": "3.12.7"
  }
 },
 "nbformat": 4,
 "nbformat_minor": 5
}
