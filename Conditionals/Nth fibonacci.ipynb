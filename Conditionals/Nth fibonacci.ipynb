{
 "cells": [
  {
   "cell_type": "markdown",
   "id": "ef259732-442f-4e87-9a9b-a6e04b6e28ec",
   "metadata": {},
   "source": [
    "The n-th term of Fibonacci series F(n), where F(n) is a function, is calculated using the following formula -\n",
    "\n",
    "    F(n) = F(n - 1) + F(n - 2), \n",
    "    Where, F(1) = 1, F(2) = 1\n",
    "\n",
    "\n",
    "Provided 'n' you have to find out the n-th Fibonacci Number. Handle edges cases like when 'n' = 1 or 'n' = 2 by using conditionals like if else and return what's expected.\n",
    "\n",
    "\"Indexing is start from 1\"\n",
    "\n",
    "\n",
    "Example :\n",
    "Input: 6\n",
    "\n",
    "Output: 8\n",
    "\n",
    "Explanation: The number is ‘6’ so we have to find the “6th” Fibonacci number.\n",
    "So by using the given formula of the Fibonacci series, we get the series:    \n",
    "[ 1, 1, 2, 3, 5, 8, 13, 21]\n",
    "So the “6th” element is “8” hence we get the output.\n"
   ]
  },
  {
   "cell_type": "code",
   "execution_count": null,
   "id": "35b7fad7-afef-4041-8c8c-4be115910a63",
   "metadata": {},
   "outputs": [
    {
     "ename": "",
     "evalue": "",
     "output_type": "error",
     "traceback": [
      "\u001b[1;31mRunning cells with 'Python 3.13.0' requires the ipykernel package.\n",
      "\u001b[1;31mRun the following command to install 'ipykernel' into the Python environment. \n",
      "\u001b[1;31mCommand: 'c:/Users/varun/AppData/Local/Programs/Python/Python313/python.exe -m pip install ipykernel -U --user --force-reinstall'"
     ]
    }
   ],
   "source": [
    "## Read input as specified in the question.\n",
    "n = int(input())\n",
    "## Print output as specified in the question.\n",
    "fib = 0\n",
    "if n==1 or n == 2:\n",
    "    print(1)\n",
    "else:\n",
    "    i=2\n",
    "    a = 1\n",
    "    b = 1\n",
    "    while i<n:\n",
    "        fib = a + b\n",
    "        a = b\n",
    "        b = fib\n",
    "        i += 1\n",
    "    print (fib)"
   ]
  }
 ],
 "metadata": {
  "kernelspec": {
   "display_name": "Python 3",
   "language": "python",
   "name": "python3"
  },
  "language_info": {
   "codemirror_mode": {
    "name": "ipython",
    "version": 3
   },
   "file_extension": ".py",
   "mimetype": "text/x-python",
   "name": "python",
   "nbconvert_exporter": "python",
   "pygments_lexer": "ipython3",
   "version": "3.13.0"
  }
 },
 "nbformat": 4,
 "nbformat_minor": 5
}
