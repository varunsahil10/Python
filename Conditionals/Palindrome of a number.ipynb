{
 "cells": [
  {
   "cell_type": "markdown",
   "id": "d26ae77e-c851-4db2-b3d7-31843f399945",
   "metadata": {},
   "source": [
    "Problem statement\n",
    "Check whether a given number ’n’ is a palindrome number.\n",
    "\n",
    "Note :\n",
    "Palindrome numbers are the numbers that don't change when reversed.\n",
    "You don’t need to print anything. Just implement the given function.\n",
    "Example:\n",
    "Input: 'n' = 51415\n",
    "Output: true\n",
    "Explanation: On reversing, 51415 gives 51415.\n"
   ]
  },
  {
   "cell_type": "code",
   "execution_count": 4,
   "id": "48effd28-3e92-4c4f-ac6c-6ed667abb840",
   "metadata": {},
   "outputs": [
    {
     "name": "stdout",
     "output_type": "stream",
     "text": [
      "true\n"
     ]
    }
   ],
   "source": [
    "def checkPalindrome(n):\n",
    "#Implement Your Code Here\n",
    "    rev = 0\n",
    "    ans = n\n",
    "    while ans:\n",
    "        rev = rev * 10 + (ans%10)\n",
    "        ans = ans//10\n",
    "    \n",
    "    if rev == n:\n",
    "        return True\n",
    "    else:\n",
    "        return False\n",
    "        \n",
    "num = int(input())\n",
    "isPalindrome = checkPalindrome(num)\n",
    "if(isPalindrome):\n",
    "    print('true')\n",
    "else:\n",
    "    print('false')\n"
   ]
  }
 ],
 "metadata": {
  "kernelspec": {
   "display_name": "Python 3",
   "language": "python",
   "name": "python3"
  },
  "language_info": {
   "codemirror_mode": {
    "name": "ipython",
    "version": 3
   },
   "file_extension": ".py",
   "mimetype": "text/x-python",
   "name": "python",
   "nbconvert_exporter": "python",
   "pygments_lexer": "ipython3",
   "version": "3.13.0"
  }
 },
 "nbformat": 4,
 "nbformat_minor": 5
}
