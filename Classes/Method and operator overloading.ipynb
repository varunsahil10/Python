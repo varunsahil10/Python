{
 "cells": [
  {
   "cell_type": "code",
   "execution_count": 12,
   "id": "29c8a619-d78a-4ed1-8da0-9d317497c065",
   "metadata": {},
   "outputs": [
    {
     "name": "stdout",
     "output_type": "stream",
     "text": [
      "2i + 3j + 4k\n",
      "2i + 7j + 5k\n",
      "4i + 10j + 9k\n"
     ]
    }
   ],
   "source": [
    "#operator overloading\n",
    "\n",
    "class Vector:\n",
    "    def __init__(self, i, j, k):\n",
    "        self.i = i\n",
    "        self.j = j\n",
    "        self.k = k\n",
    "\n",
    "    def __str__(self):\n",
    "        return f\"{self.i}i + {self.j}j + {self.k}k\"\n",
    "    \n",
    "    def __add__(self, vec):\n",
    "        return Vector(self.i + vec.i,\n",
    "                     self.j + vec.j,\n",
    "                     self.k + vec.k)\n",
    "\n",
    "v1 = Vector(2,3,4)\n",
    "print(v1)\n",
    "v2 = Vector(2,7,5)\n",
    "print(v2)\n",
    "v3 = v1 + v2\n",
    "print(v3)"
   ]
  }
 ],
 "metadata": {
  "kernelspec": {
   "display_name": "Python 3 (ipykernel)",
   "language": "python",
   "name": "python3"
  },
  "language_info": {
   "codemirror_mode": {
    "name": "ipython",
    "version": 3
   },
   "file_extension": ".py",
   "mimetype": "text/x-python",
   "name": "python",
   "nbconvert_exporter": "python",
   "pygments_lexer": "ipython3",
   "version": "3.12.7"
  }
 },
 "nbformat": 4,
 "nbformat_minor": 5
}
