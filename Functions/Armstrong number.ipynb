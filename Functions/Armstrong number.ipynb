{
 "cells": [
  {
   "cell_type": "code",
   "execution_count": 31,
   "id": "676932ac-c84b-45cf-b4a0-a47911fef220",
   "metadata": {},
   "outputs": [
    {
     "name": "stdin",
     "output_type": "stream",
     "text": [
      " 1634\n"
     ]
    },
    {
     "name": "stdout",
     "output_type": "stream",
     "text": [
      "----------------\n",
      "4\n",
      "0\n",
      "0\n",
      "----------------\n",
      "3\n",
      "7\n",
      "7\n",
      "----------------\n",
      "6\n",
      "2\n",
      "9\n",
      "----------------\n",
      "1\n",
      "5\n",
      "14\n",
      "false\n"
     ]
    }
   ],
   "source": [
    "def checkArmstrong(n):\n",
    "    #write your code here !!!!!!!!!\n",
    "    x = n\n",
    "    digits = 0\n",
    "    while x:\n",
    "        digits += 1\n",
    "        x = x // 10\n",
    "    \n",
    "    if digits == 1:\n",
    "        return True\n",
    "\n",
    "\n",
    "    armstrongnum = 0\n",
    "    temp = n\n",
    "\n",
    "    while temp:\n",
    "        armstrongnum = armstrongnum + ((temp % 10)**digits)\n",
    "        print('----------------')\n",
    "        print(temp % 10)\n",
    "        print((temp % 10)**digits)\n",
    "        print(armstrongnum)\n",
    "        temp = temp // 10\n",
    "\n",
    "    if armstrongnum == n:\n",
    "        return True\n",
    "    \n",
    "    return False\n",
    "\n",
    "def main():\n",
    "    n = int(input())\n",
    "    if(checkArmstrong(n)):\n",
    "        print(\"true\")\n",
    "    else:\n",
    "        print(\"false\")\n",
    "if __name__ == \"__main__\":\n",
    "    main()\n",
    "    \n"
   ]
  },
  {
   "cell_type": "code",
   "execution_count": null,
   "id": "f74676fb-9f04-44be-a5a4-6340dd571bc3",
   "metadata": {},
   "outputs": [],
   "source": []
  }
 ],
 "metadata": {
  "kernelspec": {
   "display_name": "Python 3 (ipykernel)",
   "language": "python",
   "name": "python3"
  },
  "language_info": {
   "codemirror_mode": {
    "name": "ipython",
    "version": 3
   },
   "file_extension": ".py",
   "mimetype": "text/x-python",
   "name": "python",
   "nbconvert_exporter": "python",
   "pygments_lexer": "ipython3",
   "version": "3.12.7"
  }
 },
 "nbformat": 4,
 "nbformat_minor": 5
}
