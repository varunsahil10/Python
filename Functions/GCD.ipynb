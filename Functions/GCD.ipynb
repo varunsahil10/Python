{
 "cells": [
  {
   "cell_type": "code",
   "execution_count": 8,
   "id": "a0cf1619-0b74-4538-8b86-41238a8594a6",
   "metadata": {},
   "outputs": [
    {
     "data": {
      "text/plain": [
       "4"
      ]
     },
     "execution_count": 8,
     "metadata": {},
     "output_type": "execute_result"
    }
   ],
   "source": [
    "#GFG\n",
    "def gcd(a,b):\n",
    "    div = a\n",
    "    if a>b:\n",
    "        div = b\n",
    "    while div > 1:\n",
    "        if b % div == 0 and a % div == 0:\n",
    "            return div\n",
    "        div -= 1\n",
    "    return 1\n",
    "\n",
    "gcd(1000001,2000000)\n",
    "gcd(16,20)"
   ]
  },
  {
   "cell_type": "code",
   "execution_count": null,
   "id": "1b0d8da1-13c9-4c27-a3d1-b76b7a441674",
   "metadata": {},
   "outputs": [],
   "source": [
    "# coding ninjas\n",
    "def gcd(a,b):\n",
    "    i =2\n",
    "    gcd = 1\n",
    "    while i < a and i < b:\n",
    "        if a % i == 0 and b % i -"
   ]
  }
 ],
 "metadata": {
  "kernelspec": {
   "display_name": "Python 3 (ipykernel)",
   "language": "python",
   "name": "python3"
  },
  "language_info": {
   "codemirror_mode": {
    "name": "ipython",
    "version": 3
   },
   "file_extension": ".py",
   "mimetype": "text/x-python",
   "name": "python",
   "nbconvert_exporter": "python",
   "pygments_lexer": "ipython3",
   "version": "3.12.7"
  }
 },
 "nbformat": 4,
 "nbformat_minor": 5
}
