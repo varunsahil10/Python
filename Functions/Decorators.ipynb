{
 "cells": [
  {
   "cell_type": "code",
   "execution_count": 2,
   "id": "517dd95c-e9aa-4b66-b273-10c33e32ccb8",
   "metadata": {},
   "outputs": [
    {
     "name": "stdout",
     "output_type": "stream",
     "text": [
      "5\n"
     ]
    }
   ],
   "source": [
    "#storing function in a variable\n",
    "\n",
    "def add(a,b):\n",
    "    return a + b\n",
    "\n",
    "addition = add\n",
    "print(addition(2,3))"
   ]
  },
  {
   "cell_type": "code",
   "execution_count": 10,
   "id": "e0787be4-5fd3-4180-8a28-46d909cd72d3",
   "metadata": {},
   "outputs": [
    {
     "name": "stdout",
     "output_type": "stream",
     "text": [
      "5\n",
      "1\n"
     ]
    }
   ],
   "source": [
    "#functions as arguments to other functions => High order functions\n",
    "\n",
    "def add(a,b):\n",
    "    return a + b\n",
    "\n",
    "def sub(a,b):\n",
    "    return a - b\n",
    "\n",
    "def printing(func):\n",
    "    result = func(3,2)\n",
    "    print(result)\n",
    "\n",
    "printing(add)\n",
    "printing(sub)\n"
   ]
  },
  {
   "cell_type": "code",
   "execution_count": 26,
   "id": "003902ed-9392-4550-a7cb-08ee78153f33",
   "metadata": {},
   "outputs": [
    {
     "name": "stdout",
     "output_type": "stream",
     "text": [
      "15\n",
      "120\n"
     ]
    }
   ],
   "source": [
    "def add(*args):\n",
    "    ans = 0\n",
    "    for arg in args:\n",
    "        ans += arg\n",
    "    return ans\n",
    "    \n",
    "def mul(*args):\n",
    "    ans = 1\n",
    "    for arg in args:\n",
    "        ans *= arg\n",
    "    return ans\n",
    "\n",
    "def high_order_func(func):\n",
    "    result = func(1,2,3,4,5)\n",
    "    return result\n",
    "\n",
    "print(high_order_func(add))\n",
    "print(high_order_func(mul))\n"
   ]
  },
  {
   "cell_type": "code",
   "execution_count": 38,
   "id": "4145b324-a41a-49d3-a43e-e6cda7baa300",
   "metadata": {},
   "outputs": [
    {
     "name": "stdout",
     "output_type": "stream",
     "text": [
      "5\n",
      "-5\n"
     ]
    }
   ],
   "source": [
    "#function returning other function\n",
    "\n",
    "def create_adder(x): \n",
    "\tdef adder(y): \n",
    "\t\treturn x-y \n",
    "\n",
    "\treturn adder \n",
    "\n",
    "add_15 = create_adder(15) \n",
    "\n",
    "print (add_15(10)) \n",
    "\n",
    "print( create_adder(10)(15) )\n"
   ]
  },
  {
   "cell_type": "code",
   "execution_count": 10,
   "id": "be9be007-2b2f-4061-b46a-60d8969ef830",
   "metadata": {},
   "outputs": [
    {
     "name": "stdout",
     "output_type": "stream",
     "text": [
      "*********\n",
      "Inside func\n",
      "*********\n",
      "Inside func\n"
     ]
    }
   ],
   "source": [
    "# not a decorators\n",
    "\n",
    "def decor(func):\n",
    "    print(\"*********\")\n",
    "    func()\n",
    "    print(\"*********\")\n",
    "    return func\n",
    "def func():\n",
    "    print(\"Inside func\")\n",
    "\n",
    "func1 = decor(func)\n",
    "func1()"
   ]
  },
  {
   "cell_type": "code",
   "execution_count": 5,
   "id": "b148eec1-96f2-482f-9654-0cfdc567ab9e",
   "metadata": {},
   "outputs": [
    {
     "name": "stdout",
     "output_type": "stream",
     "text": [
      "*****\n",
      "inside\n",
      "3\n",
      "*****\n"
     ]
    },
    {
     "data": {
      "text/plain": [
       "3"
      ]
     },
     "execution_count": 5,
     "metadata": {},
     "output_type": "execute_result"
    }
   ],
   "source": [
    "# Decorator\n",
    "\n",
    "def decor(func):\n",
    "    def wrapper(a,b):\n",
    "        print('*****')\n",
    "        res = func(a,b)\n",
    "        print(res)\n",
    "        print('*****')\n",
    "        return res\n",
    "    return wrapper\n",
    "\n",
    "# @decor\n",
    "def func(a,b):\n",
    "    print(\"inside\")\n",
    "    return a + b\n",
    "\n",
    "func1 = decor(func)\n",
    "\n",
    "func1(1,2)"
   ]
  },
  {
   "cell_type": "code",
   "execution_count": 3,
   "id": "78c9cd99-1be0-4133-821f-a7a0037d2ece",
   "metadata": {},
   "outputs": [
    {
     "name": "stdout",
     "output_type": "stream",
     "text": [
      "*****\n",
      "inside\n",
      "*****\n"
     ]
    }
   ],
   "source": [
    "# Decorator\n",
    "\n",
    "def decor(func):\n",
    "    def wrapper():\n",
    "        print('*****')\n",
    "        func()\n",
    "        print('*****')\n",
    "    return wrapper\n",
    "\n",
    "# @decor\n",
    "def func():\n",
    "    print(\"inside\")\n",
    "\n",
    "func1 = decor(func)\n",
    "\n",
    "func1()"
   ]
  },
  {
   "cell_type": "code",
   "execution_count": 9,
   "id": "880e0a43-c3bb-4825-bb24-2cd1593c61a3",
   "metadata": {},
   "outputs": [
    {
     "name": "stdout",
     "output_type": "stream",
     "text": [
      "*****\n",
      "inside\n",
      "3\n",
      "*****\n"
     ]
    },
    {
     "data": {
      "text/plain": [
       "3"
      ]
     },
     "execution_count": 9,
     "metadata": {},
     "output_type": "execute_result"
    }
   ],
   "source": [
    "# Decorator\n",
    "\n",
    "def decor(func):\n",
    "    def wrapper(a,b):\n",
    "        print('*****')\n",
    "        res = func(a,b)\n",
    "        print(res)\n",
    "        print('*****')\n",
    "        return res\n",
    "    return wrapper\n",
    "\n",
    "@decor\n",
    "def func(a,b):\n",
    "    print(\"inside\")\n",
    "    return a + b\n",
    "\n",
    "\n",
    "func(1,2)"
   ]
  },
  {
   "cell_type": "code",
   "execution_count": 19,
   "id": "6a2d54bb-1044-4482-a552-9491b245da22",
   "metadata": {},
   "outputs": [
    {
     "name": "stdout",
     "output_type": "stream",
     "text": [
      "*****\n",
      "######\n",
      "inside\n",
      "3\n",
      "######\n",
      "*****\n"
     ]
    }
   ],
   "source": [
    "# Decorator\n",
    "\n",
    "def decor1(func):\n",
    "    def wrapper(a,b):\n",
    "        print('*****')\n",
    "        func(a,b)\n",
    "        print('*****')\n",
    "        \n",
    "    return wrapper\n",
    "\n",
    "def decor2(func):\n",
    "    def wrapper(a,b):\n",
    "        print('######')\n",
    "        res = func(a,b)\n",
    "        print(res)\n",
    "        print('######')\n",
    "        return res\n",
    "    return wrapper\n",
    "\n",
    "@decor1\n",
    "@decor2\n",
    "def func(a,b):\n",
    "    print(\"inside\")\n",
    "    return a + b\n",
    "\n",
    "\n",
    "func(1,2)"
   ]
  },
  {
   "cell_type": "code",
   "execution_count": 67,
   "id": "8d7f0887-1c60-4478-bb0c-89b37a2db525",
   "metadata": {},
   "outputs": [
    {
     "name": "stdout",
     "output_type": "stream",
     "text": [
      "(2, 3)\n",
      "{}\n",
      "{(2, 3): 5}\n",
      "5\n",
      "(2, 3)\n",
      "{(2, 3): 5}\n",
      "5\n",
      "(2, 3)\n",
      "{(2, 3): 5}\n",
      "5\n"
     ]
    }
   ],
   "source": [
    "# cacher using decorators\n",
    "import time\n",
    "def cacher(func):\n",
    "    cached = {}\n",
    "    def wrapper(*args):\n",
    "        print(args)\n",
    "        print(cached)\n",
    "        if args in cached:\n",
    "            return cached[args] \n",
    "        ans = func(*args)\n",
    "        cached[args] = ans\n",
    "        print(cached)\n",
    "        return ans\n",
    "    return wrapper\n",
    "\n",
    "@cacher\n",
    "def add(a,b):\n",
    "    time.sleep(5)\n",
    "    return a + b\n",
    "\n",
    "\n",
    "print(add(2,3))\n",
    "print(add(2,3))\n",
    "print(add(2,3))\n",
    "\n"
   ]
  },
  {
   "cell_type": "code",
   "execution_count": 57,
   "id": "c6204edf-a942-4b7a-a403-87195052233d",
   "metadata": {},
   "outputs": [
    {
     "data": {
      "text/plain": [
       "1"
      ]
     },
     "execution_count": 57,
     "metadata": {},
     "output_type": "execute_result"
    }
   ],
   "source": [
    "dic = {(1,2,3) : 1}\n",
    "dic[(1,2,3)]"
   ]
  }
 ],
 "metadata": {
  "kernelspec": {
   "display_name": "Python 3 (ipykernel)",
   "language": "python",
   "name": "python3"
  },
  "language_info": {
   "codemirror_mode": {
    "name": "ipython",
    "version": 3
   },
   "file_extension": ".py",
   "mimetype": "text/x-python",
   "name": "python",
   "nbconvert_exporter": "python",
   "pygments_lexer": "ipython3",
   "version": "3.12.7"
  }
 },
 "nbformat": 4,
 "nbformat_minor": 5
}
