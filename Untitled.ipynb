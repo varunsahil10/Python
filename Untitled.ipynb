{
 "cells": [
  {
   "cell_type": "code",
   "execution_count": 20,
   "id": "24011c8c-ebe4-49e3-8e77-7369e770d667",
   "metadata": {},
   "outputs": [
    {
     "name": "stdout",
     "output_type": "stream",
     "text": [
      "1\n",
      "2\n",
      "[3, 4, [5, 6, [7, 8]]]\n"
     ]
    }
   ],
   "source": [
    "question = [1,2,[3,4,[5,6,[7,8]]]]\n",
    "ans = []\n",
    "# type(ans)\n",
    "# while True:\n",
    "for ele in question:\n",
    "    print(ele)\n",
    "    temp_list = []\n",
    "    if type(ele) == list:\n",
    "        temp_list.extend(ele)\n",
    "        # print(question)\n",
    "        continue\n",
    "    ans.append(ele)\n",
    "# print(ans)"
   ]
  },
  {
   "cell_type": "code",
   "execution_count": null,
   "id": "2afecd85-5f9f-4a0c-9d90-2a62c4b9f790",
   "metadata": {},
   "outputs": [],
   "source": []
  }
 ],
 "metadata": {
  "kernelspec": {
   "display_name": "Python 3 (ipykernel)",
   "language": "python",
   "name": "python3"
  },
  "language_info": {
   "codemirror_mode": {
    "name": "ipython",
    "version": 3
   },
   "file_extension": ".py",
   "mimetype": "text/x-python",
   "name": "python",
   "nbconvert_exporter": "python",
   "pygments_lexer": "ipython3",
   "version": "3.12.7"
  }
 },
 "nbformat": 4,
 "nbformat_minor": 5
}
