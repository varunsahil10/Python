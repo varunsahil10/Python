{
 "cells": [
  {
   "cell_type": "raw",
   "id": "1d3388b4-a38b-4d58-97e4-f51e0f3fe438",
   "metadata": {},
   "source": [
    "Problem statement\n",
    "Print the following pattern for the given N number of rows.\n",
    "\n",
    "Pattern for N = 4\n",
    "A\n",
    "BC\n",
    "CDE\n",
    "DEFG\n"
   ]
  },
  {
   "cell_type": "code",
   "execution_count": 3,
   "id": "e450d165-3d9b-4434-80a1-6edd7e12d943",
   "metadata": {},
   "outputs": [
    {
     "name": "stdin",
     "output_type": "stream",
     "text": [
      " 25\n"
     ]
    },
    {
     "name": "stdout",
     "output_type": "stream",
     "text": [
      "A\n",
      "BC\n",
      "CDE\n",
      "DEFG\n",
      "EFGHI\n",
      "FGHIJK\n",
      "GHIJKLM\n",
      "HIJKLMNO\n",
      "IJKLMNOPQ\n",
      "JKLMNOPQRS\n",
      "KLMNOPQRSTU\n",
      "LMNOPQRSTUVW\n",
      "MNOPQRSTUVWXY\n",
      "NOPQRSTUVWXYZ[\n",
      "OPQRSTUVWXYZ[\\]\n",
      "PQRSTUVWXYZ[\\]^_\n",
      "QRSTUVWXYZ[\\]^_`a\n",
      "RSTUVWXYZ[\\]^_`abc\n",
      "STUVWXYZ[\\]^_`abcde\n",
      "TUVWXYZ[\\]^_`abcdefg\n",
      "UVWXYZ[\\]^_`abcdefghi\n",
      "VWXYZ[\\]^_`abcdefghijk\n",
      "WXYZ[\\]^_`abcdefghijklm\n",
      "XYZ[\\]^_`abcdefghijklmno\n",
      "YZ[\\]^_`abcdefghijklmnopq\n"
     ]
    }
   ],
   "source": [
    "n = int(input())\n",
    "i = 1\n",
    "while i<=n:\n",
    "    j =1 \n",
    "    starting = chr(ord('A')+i-1)\n",
    "    while j<=i:\n",
    "        target = chr(ord(starting)+j-1)\n",
    "        print(target, end='')\n",
    "        j = j+1\n",
    "    print()\n",
    "    i += 1"
   ]
  },
  {
   "cell_type": "raw",
   "id": "339519f5-4fc9-4f09-9abf-30328cfb7f8b",
   "metadata": {},
   "source": [
    "Print the following pattern for the given number of rows.\n",
    "\n",
    "Pattern for N = 5\n",
    "E\n",
    "DE\n",
    "CDE\n",
    "BCDE\n",
    "ABCDE"
   ]
  },
  {
   "cell_type": "code",
   "execution_count": 5,
   "id": "3ec83b69-169b-4da4-bccb-a75524b7fced",
   "metadata": {},
   "outputs": [
    {
     "name": "stdin",
     "output_type": "stream",
     "text": [
      " 20\n"
     ]
    },
    {
     "name": "stdout",
     "output_type": "stream",
     "text": [
      "T\n",
      "ST\n",
      "RST\n",
      "QRST\n",
      "PQRST\n",
      "OPQRST\n",
      "NOPQRST\n",
      "MNOPQRST\n",
      "LMNOPQRST\n",
      "KLMNOPQRST\n",
      "JKLMNOPQRST\n",
      "IJKLMNOPQRST\n",
      "HIJKLMNOPQRST\n",
      "GHIJKLMNOPQRST\n",
      "FGHIJKLMNOPQRST\n",
      "EFGHIJKLMNOPQRST\n",
      "DEFGHIJKLMNOPQRST\n",
      "CDEFGHIJKLMNOPQRST\n",
      "BCDEFGHIJKLMNOPQRST\n",
      "ABCDEFGHIJKLMNOPQRST\n"
     ]
    }
   ],
   "source": [
    "n = int(input())\n",
    "i = 1\n",
    "while i<=n:\n",
    "    j=1\n",
    "    starting = chr(ord('A')+n-i)\n",
    "    while j<=i:\n",
    "        target = chr(ord(starting)+j-1)\n",
    "        print(target, end='')\n",
    "        j += 1\n",
    "    print()\n",
    "    i += 1\n"
   ]
  },
  {
   "cell_type": "raw",
   "id": "3727578d-b8d1-4baf-96fd-c78b972d487b",
   "metadata": {},
   "source": [
    "Print the following pattern for the given N number of rows.\n",
    "\n",
    "Pattern for N = 4\n",
    "1\n",
    "11\n",
    "202\n",
    "3003\n"
   ]
  },
  {
   "cell_type": "code",
   "execution_count": 11,
   "id": "270798ca-b587-47ab-a949-ffc1045c35a1",
   "metadata": {},
   "outputs": [
    {
     "name": "stdin",
     "output_type": "stream",
     "text": [
      " 20\n"
     ]
    },
    {
     "name": "stdout",
     "output_type": "stream",
     "text": [
      "1\n",
      "11\n",
      "202\n",
      "3003\n",
      "40004\n",
      "500005\n",
      "6000006\n",
      "70000007\n",
      "800000008\n",
      "9000000009\n",
      "1000000000010\n",
      "11000000000011\n",
      "120000000000012\n",
      "1300000000000013\n",
      "14000000000000014\n",
      "150000000000000015\n",
      "1600000000000000016\n",
      "17000000000000000017\n",
      "180000000000000000018\n",
      "1900000000000000000019\n"
     ]
    }
   ],
   "source": [
    "from math import *\n",
    "from collections import *\n",
    "from sys import *\n",
    "from os import *\n",
    "\n",
    "## Read input as specified in the question.\n",
    "## Print output as specified in the question.\n",
    "n = int(input())\n",
    "print(1)\n",
    "i = 2\n",
    "while i<= n:\n",
    "    j = 1\n",
    "    while j<=i:\n",
    "        if j==1 or j==i:\n",
    "            print(i-1,end='')\n",
    "        else:\n",
    "            print(0,end='')\n",
    "        j += 1\n",
    "    print()\n",
    "    i += 1\n",
    "\n",
    "        "
   ]
  },
  {
   "cell_type": "code",
   "execution_count": null,
   "id": "232b0a7e-59c0-47c5-95cc-57ae334ce869",
   "metadata": {},
   "outputs": [],
   "source": []
  },
  {
   "cell_type": "code",
   "execution_count": 15,
   "id": "b1402245-d2bf-4ad2-b582-305ab0ff3130",
   "metadata": {},
   "outputs": [
    {
     "name": "stdin",
     "output_type": "stream",
     "text": [
      " 5\n"
     ]
    },
    {
     "name": "stdout",
     "output_type": "stream",
     "text": [
      "1\n",
      "11\n",
      "121\n",
      "1221\n",
      "12221\n"
     ]
    }
   ],
   "source": [
    "from math import *\n",
    "from collections import *\n",
    "from sys import *\n",
    "from os import *\n",
    "\n",
    "## Read input as specified in the question.\n",
    "## Print output as specified in the question.\n",
    "n = int(input())\n",
    "if n>0:\n",
    "    print (1)\n",
    "\n",
    "i = 2\n",
    "while i<= n:\n",
    "    j = 1\n",
    "    while j<=i:\n",
    "        if j==1 or j==i:\n",
    "            print(1,end='')\n",
    "        else:\n",
    "            print(2,end='')\n",
    "        j += 1\n",
    "    print()\n",
    "    i += 1\n"
   ]
  },
  {
   "cell_type": "raw",
   "id": "8d667429-2605-4f1f-b6d2-045d1b9aabf6",
   "metadata": {},
   "source": [
    "Print the following pattern for the given N number of rows.\n",
    "\n",
    "Pattern for N = 4\n",
    "1234\n",
    "123\n",
    "12\n",
    "1\n"
   ]
  },
  {
   "cell_type": "code",
   "execution_count": 17,
   "id": "e54486e1-ded0-4d25-b79c-7544391c7f55",
   "metadata": {},
   "outputs": [
    {
     "name": "stdin",
     "output_type": "stream",
     "text": [
      " 10\n"
     ]
    },
    {
     "name": "stdout",
     "output_type": "stream",
     "text": [
      "12345678910\n",
      "123456789\n",
      "12345678\n",
      "1234567\n",
      "123456\n",
      "12345\n",
      "1234\n",
      "123\n",
      "12\n",
      "1\n"
     ]
    }
   ],
   "source": [
    "from math import *\n",
    "from collections import *\n",
    "from sys import *\n",
    "from os import *\n",
    "\n",
    "## Read input as specified in the question.\n",
    "## Print output as specified in the question.\n",
    "n = int(input())\n",
    "i = 1\n",
    "while i<= n:\n",
    "    j = 1\n",
    "    while j<=n-i+1:\n",
    "        print(j,end='')\n",
    "        j += 1\n",
    "    print()\n",
    "    i += 1\n"
   ]
  },
  {
   "cell_type": "raw",
   "id": "75b69329-1398-4aef-b82f-57ba8bd61755",
   "metadata": {},
   "source": [
    "Print the following pattern for the given N number of rows.\n",
    "\n",
    "Pattern for N = 3\n",
    " A\n",
    " BB\n",
    " CCC\n"
   ]
  },
  {
   "cell_type": "code",
   "execution_count": 19,
   "id": "aa3ae7fe-4e87-43a6-bf5d-5afe43db8b51",
   "metadata": {},
   "outputs": [
    {
     "name": "stdin",
     "output_type": "stream",
     "text": [
      " 10\n"
     ]
    },
    {
     "name": "stdout",
     "output_type": "stream",
     "text": [
      "A\n",
      "BB\n",
      "CCC\n",
      "DDDD\n",
      "EEEEE\n",
      "FFFFFF\n",
      "GGGGGGG\n",
      "HHHHHHHH\n",
      "IIIIIIIII\n",
      "JJJJJJJJJJ\n"
     ]
    }
   ],
   "source": [
    "from math import *\n",
    "from collections import *\n",
    "from sys import *\n",
    "from os import *\n",
    "\n",
    "## Read input as specified in the question.\n",
    "## Print output as specified in the question.\n",
    "n = int(input())\n",
    "i = 1\n",
    "while i<= n:\n",
    "    j = 1\n",
    "    starting = chr(ord('A')+i-1)\n",
    "    while j<=i:\n",
    "        print(starting,end='')\n",
    "        j += 1\n",
    "    print()\n",
    "    i += 1\n"
   ]
  }
 ],
 "metadata": {
  "kernelspec": {
   "display_name": "Python 3 (ipykernel)",
   "language": "python",
   "name": "python3"
  },
  "language_info": {
   "codemirror_mode": {
    "name": "ipython",
    "version": 3
   },
   "file_extension": ".py",
   "mimetype": "text/x-python",
   "name": "python",
   "nbconvert_exporter": "python",
   "pygments_lexer": "ipython3",
   "version": "3.12.7"
  }
 },
 "nbformat": 4,
 "nbformat_minor": 5
}
