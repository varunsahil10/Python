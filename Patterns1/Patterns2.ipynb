{
 "cells": [
  {
   "attachments": {
    "414ed3be-c343-4ca7-a826-5fae5e79757c.png": {
     "image/png": "[encoded data removed]"
    }
   },
   "cell_type": "markdown",
   "id": "a4999726-79af-411c-b433-ce4202971ddb",
   "metadata": {},
   "source": [
    "Print the following pattern for the given N number of rows.\n",
    "\n",
    "Pattern for N = 4\n",
    "\n",
    "![image.png](attachment:414ed3be-c343-4ca7-a826-5fae5e79757c.png)\n",
    "\n",
    "\n",
    "\n",
    "The dots represent spaces.\n",
    "\n"
   ]
  },
  {
   "cell_type": "code",
   "execution_count": 18,
   "id": "d02b6ee9-8023-4f8c-a86f-e2dea12a5636",
   "metadata": {},
   "outputs": [
    {
     "name": "stdin",
     "output_type": "stream",
     "text": [
      " 5\n"
     ]
    },
    {
     "name": "stdout",
     "output_type": "stream",
     "text": [
      "    1\n",
      "   12\n",
      "  123\n",
      " 1234\n",
      "12345\n"
     ]
    }
   ],
   "source": [
    "## Read input as specified in the question\n",
    "## Print the required output in given format\n",
    "\n",
    "n = int(input())\n",
    "i = 1\n",
    "while i<=n:\n",
    "    k = 1\n",
    "\n",
    "    spaces = 1\n",
    "    while spaces <= n-i:\n",
    "        print(' ', end='')\n",
    "        spaces += 1\n",
    "    \n",
    "    stars = 1\n",
    "    while stars <= i:\n",
    "        print(k,end='')\n",
    "        k += 1\n",
    "        stars += 1\n",
    "\n",
    "    print()\n",
    "    i += 1"
   ]
  },
  {
   "cell_type": "code",
   "execution_count": 15,
   "id": "2aefcefa-19df-495d-9175-4ea72e7fc1f9",
   "metadata": {},
   "outputs": [
    {
     "name": "stdin",
     "output_type": "stream",
     "text": [
      " 5\n"
     ]
    },
    {
     "name": "stdout",
     "output_type": "stream",
     "text": [
      "    1\n",
      "   121\n",
      "  12321\n",
      " 1234321\n",
      "123454321\n"
     ]
    }
   ],
   "source": [
    "from math import *\n",
    "from collections import *\n",
    "from sys import *\n",
    "from os import *\n",
    "\n",
    "## Read input as specified in the question.\n",
    "## Print output as specified in the question.\n",
    "n = int(input())\n",
    "i = 1\n",
    "while i <= n:\n",
    "    \n",
    "    #spaces\n",
    "    spaces = 1\n",
    "    while spaces <= n-i:\n",
    "        print(' ',end='')\n",
    "        spaces += 1\n",
    "\n",
    "    #increasing\n",
    "    p = 1\n",
    "    j = 1\n",
    "    while j<=i:\n",
    "        print(p, end='')\n",
    "        j += 1\n",
    "        p += 1\n",
    "    \n",
    "    #decreasing\n",
    "    p = i-1\n",
    "    while p:\n",
    "        print(p, end='')\n",
    "        p -= 1\n",
    "    print()\n",
    "    i += 1\n",
    "\n"
   ]
  },
  {
   "attachments": {
    "8c897c8a-7121-458b-b7f2-e057de982ae7.png": {
     "image/png": "[encoded data removed]"
    }
   },
   "cell_type": "markdown",
   "id": "7af87275-c3a0-43a1-8ccf-237191927f5b",
   "metadata": {},
   "source": [
    "Print the following pattern for the given number of rows.\n",
    "\n",
    "Pattern for N = 4\n",
    "![image.png](attachment:8c897c8a-7121-458b-b7f2-e057de982ae7.png)\n",
    "\n",
    "\n",
    "\n",
    "The dots represent spaces.\n",
    "\n"
   ]
  },
  {
   "cell_type": "code",
   "execution_count": 19,
   "id": "34699ede-691b-41e3-b802-f448ffdfd863",
   "metadata": {},
   "outputs": [
    {
     "name": "stdin",
     "output_type": "stream",
     "text": [
      " 4\n"
     ]
    },
    {
     "name": "stdout",
     "output_type": "stream",
     "text": [
      "   1\n",
      "  232\n",
      " 34543\n",
      "4567654\n"
     ]
    }
   ],
   "source": [
    "from math import *\n",
    "from collections import *\n",
    "from sys import *\n",
    "from os import *\n",
    "\n",
    "## Read input as specified in the question.\n",
    "## Print output as specified in the question.\n",
    "n = int(input())\n",
    "i = 1\n",
    "while i <= n:\n",
    "    \n",
    "    #spaces\n",
    "    spaces = 1\n",
    "    while spaces <= n-i:\n",
    "        print(' ',end='')\n",
    "        spaces += 1\n",
    "\n",
    "    #increasing\n",
    "    p = i\n",
    "    j = 1\n",
    "    while j<=i:\n",
    "        print(p, end='')\n",
    "        j += 1\n",
    "        p += 1\n",
    "    \n",
    "    #decreasing\n",
    "    p = p-2\n",
    "    j = i-1\n",
    "    while j:\n",
    "        print(p, end='')\n",
    "        j -= 1\n",
    "        p -= 1\n",
    "    print()\n",
    "    i += 1\n",
    "\n"
   ]
  },
  {
   "attachments": {
    "f535892f-a257-4d52-8d3b-a6e4a33a21bd.png": {
     "image/png": "[encoded data removed]"
    }
   },
   "cell_type": "markdown",
   "id": "7e65df75-78d5-4859-92f7-3013527ae8da",
   "metadata": {},
   "source": [
    "Print the following pattern for the given number of rows.\n",
    "\n",
    "Note: N is always odd.\n",
    "\n",
    "\n",
    "Pattern for N = 5\n",
    "\n",
    "![image.png](attachment:f535892f-a257-4d52-8d3b-a6e4a33a21bd.png)\n",
    "\n",
    "\n",
    "The dots represent spaces.\n",
    "\n"
   ]
  },
  {
   "cell_type": "code",
   "execution_count": 84,
   "id": "39cdfb32-5cd7-4b24-a8fa-66ef7272199a",
   "metadata": {
    "scrolled": true
   },
   "outputs": [
    {
     "name": "stdin",
     "output_type": "stream",
     "text": [
      " 11\n"
     ]
    },
    {
     "name": "stdout",
     "output_type": "stream",
     "text": [
      "     1\n",
      "    121\n",
      "   12321\n",
      "  1234321\n",
      " 123454321\n",
      "12345654321\n",
      " 123454321\n",
      "  1234321\n",
      "   12321\n",
      "    121\n",
      "     1\n"
     ]
    }
   ],
   "source": [
    "from math import *\n",
    "from collections import *\n",
    "from sys import *\n",
    "from os import *\n",
    "\n",
    "## Read input as specified in the question.\n",
    "## Print output as specified in the question.\n",
    "\n",
    "n = int(input())\n",
    "i = 1\n",
    "while i <= ( n//2 + 1 ):\n",
    "\n",
    "    # upper section\n",
    "    \n",
    "    #spaces\n",
    "    spaces = 1\n",
    "    while spaces <= ( n//2 - i + 1 ):\n",
    "        print(' ', end='')\n",
    "        spaces += 1\n",
    "    \n",
    "    #increasing\n",
    "    j = 1\n",
    "    while j <= i:\n",
    "        print(j,end='')\n",
    "        j += 1\n",
    "    \n",
    "    #decreasing\n",
    "    j = i-1\n",
    "    while j:\n",
    "        print(j,end='')\n",
    "        j -= 1\n",
    "    \n",
    "    print()\n",
    "    i += 1\n",
    "\n",
    "\n",
    "#lower section\n",
    "\n",
    "i = 1\n",
    "while i <= (n//2):\n",
    "\n",
    "    \n",
    "    #spaces\n",
    "    spaces = 1\n",
    "    while spaces <= i:\n",
    "        print(' ', end='')\n",
    "        spaces += 1\n",
    "    \n",
    "    #increasing\n",
    "    j = 1\n",
    "    while j <= (n//2 - i + 1):\n",
    "        print(j,end='')\n",
    "        j += 1\n",
    "    \n",
    "    #decreasing\n",
    "    j = n//2 - i\n",
    "    while j:\n",
    "        print(j,end='')\n",
    "        j -= 1\n",
    "\n",
    "    \n",
    "    print()\n",
    "    i += 1\n"
   ]
  },
  {
   "cell_type": "code",
   "execution_count": 96,
   "id": "115ce303-808b-4cc2-8ac5-7dd6e881de97",
   "metadata": {},
   "outputs": [
    {
     "name": "stdin",
     "output_type": "stream",
     "text": [
      " 21\n"
     ]
    },
    {
     "name": "stdout",
     "output_type": "stream",
     "text": [
      "          *\n",
      "         ***\n",
      "        *****\n",
      "       *******\n",
      "      *********\n",
      "     ***********\n",
      "    *************\n",
      "   ***************\n",
      "  *****************\n",
      " *******************\n",
      "*********************\n",
      " *******************\n",
      "  *****************\n",
      "   ***************\n",
      "    *************\n",
      "     ***********\n",
      "      *********\n",
      "       *******\n",
      "        *****\n",
      "         ***\n",
      "          *\n"
     ]
    }
   ],
   "source": [
    "from math import *\n",
    "from collections import *\n",
    "from sys import *\n",
    "from os import *\n",
    "\n",
    "## Read input as specified in the question.\n",
    "## Print output as specified in the question.\n",
    "\n",
    "n = int(input())\n",
    "i = 1\n",
    "while i <= ( n//2 + 1 ):\n",
    "\n",
    "    # upper section\n",
    "    \n",
    "    #spaces\n",
    "    spaces = 1\n",
    "    while spaces <= ( n//2 - i + 1 ):\n",
    "        print(' ', end='')\n",
    "        spaces += 1\n",
    "    \n",
    "    #increasing\n",
    "    j = 1\n",
    "    while j <= i:\n",
    "        print('*',end='')\n",
    "        j += 1\n",
    "    \n",
    "    #decreasing\n",
    "    j = i-1\n",
    "    while j:\n",
    "        print('*',end='')\n",
    "        j -= 1\n",
    "    \n",
    "    print()\n",
    "    i += 1\n",
    "\n",
    "\n",
    "#lower section\n",
    "\n",
    "i = 1\n",
    "while i <= (n//2):\n",
    "\n",
    "    \n",
    "    #spaces\n",
    "    spaces = 1\n",
    "    while spaces <= i:\n",
    "        print(' ', end='')\n",
    "        spaces += 1\n",
    "    \n",
    "    #increasing\n",
    "    j = 1\n",
    "    while j <= (n//2 - i + 1):\n",
    "        print('*',end='')\n",
    "        j += 1\n",
    "    \n",
    "    #decreasing\n",
    "    j = n//2 - i\n",
    "    while j:\n",
    "        print('*',end='')\n",
    "        j -= 1\n",
    "\n",
    "    \n",
    "    print()\n",
    "    i += 1\n"
   ]
  },
  {
   "cell_type": "markdown",
   "id": "832d8a31-5eec-47fb-a2ca-f4968b328f57",
   "metadata": {},
   "source": [
    "### Assignment"
   ]
  },
  {
   "attachments": {
    "c65008e2-2d7f-43a5-b9e1-e54114fec670.png": {
     "image/png": "[encoded data removed]"
    }
   },
   "cell_type": "markdown",
   "id": "57f1e137-9007-46af-ac42-5dd43f7259d3",
   "metadata": {},
   "source": [
    "Print the following pattern for n number of rows.\n",
    "\n",
    "![image.png](attachment:c65008e2-2d7f-43a5-b9e1-e54114fec670.png)\n",
    "\n",
    "Note: each line consist of equal number of characters + spaces. Suppose you are printing xth line for N=n. You need to print 1..x followed by (n-x) spaces, again (n-x) spaces followed by x..1\n"
   ]
  },
  {
   "cell_type": "code",
   "execution_count": 107,
   "id": "1b4c0d1d-eab2-4e4e-97ac-232562f62eb6",
   "metadata": {},
   "outputs": [
    {
     "name": "stdin",
     "output_type": "stream",
     "text": [
      " 5\n"
     ]
    },
    {
     "name": "stdout",
     "output_type": "stream",
     "text": [
      "1        1\n",
      "12      21\n",
      "123    321\n",
      "1234  4321\n",
      "1234554321\n"
     ]
    }
   ],
   "source": [
    "n = int(input())\n",
    "i = 1\n",
    "while i<= n:\n",
    "\n",
    "    #print starting numbers\n",
    "    j = 1\n",
    "    while j<= i:\n",
    "        print(j,end='')\n",
    "        j += 1\n",
    "\n",
    "    #print spaces\n",
    "    spaces = 1\n",
    "    while spaces <= 2*(n-i):\n",
    "        print(' ',end='')\n",
    "        spaces += 1\n",
    "\n",
    "    #print ending numbers\n",
    "    j = i\n",
    "    while j:\n",
    "        print(j,end='')\n",
    "        j -= 1\n",
    "\n",
    "    print()\n",
    "    i += 1\n"
   ]
  },
  {
   "cell_type": "raw",
   "id": "6d6a7903-030f-4970-819b-80504fea509d",
   "metadata": {},
   "source": [
    "Print the following pattern\n",
    "\n",
    "Pattern for N = 4\n",
    "\n",
    "*000*000*\n",
    "0*00*00*0\n",
    "00*0*0*00\n",
    "000***000\n"
   ]
  },
  {
   "cell_type": "code",
   "execution_count": 133,
   "id": "3ba8cc75-fec1-4329-80d7-a6c822b9677d",
   "metadata": {},
   "outputs": [
    {
     "name": "stdin",
     "output_type": "stream",
     "text": [
      " 4\n"
     ]
    },
    {
     "name": "stdout",
     "output_type": "stream",
     "text": [
      "*000*000*\n",
      "0*00*00*0\n",
      "00*0*0*00\n",
      "000***000\n"
     ]
    }
   ],
   "source": [
    "n = int(input())\n",
    "i = 1\n",
    "while i <= n:\n",
    "\n",
    "    #left side\n",
    "    j = 1\n",
    "    while j <= i-1:\n",
    "        print(0,end='')\n",
    "        j += 1\n",
    "\n",
    "    print('*', end='')\n",
    "\n",
    "    j = 1\n",
    "    while j <= n-i:\n",
    "        print(0,end='')\n",
    "        j += 1\n",
    "\n",
    "\n",
    "    print('*',end='')\n",
    "    #right side\n",
    "    j = 1\n",
    "    while j <= n-i:\n",
    "        print(0,end='')\n",
    "        j += 1\n",
    "\n",
    "    print('*', end='')\n",
    "\n",
    "    j = 1\n",
    "    while j <= i-1:\n",
    "        print(0,end='')\n",
    "        j += 1\n",
    "\n",
    "\n",
    "    print()\n",
    "    i += 1\n",
    "        \n"
   ]
  },
  {
   "cell_type": "raw",
   "id": "01cbb692-4182-46c5-a4f5-8ed99ae67824",
   "metadata": {},
   "source": [
    "Print the following pattern for the given number of rows.\n",
    "\n",
    "Pattern for N = 4\n",
    "   1\n",
    "  212\n",
    " 32123\n",
    "4321234\n"
   ]
  },
  {
   "cell_type": "code",
   "execution_count": 137,
   "id": "884cb2a3-034d-42b7-a7f9-3746b6b2ed52",
   "metadata": {},
   "outputs": [
    {
     "name": "stdin",
     "output_type": "stream",
     "text": [
      " 4\n"
     ]
    },
    {
     "name": "stdout",
     "output_type": "stream",
     "text": [
      "   1\n",
      "  212\n",
      " 32123\n",
      "4321234\n"
     ]
    }
   ],
   "source": [
    "n = int(input())\n",
    "\n",
    "i = 1\n",
    "\n",
    "while i <= n:\n",
    "\n",
    "    #spaces\n",
    "    spaces = 1\n",
    "    while spaces <= n-i:\n",
    "        print(' ',end='')\n",
    "        spaces += 1\n",
    "\n",
    "    #left numbers\n",
    "    j = i\n",
    "    while j:\n",
    "        print(j,end='')\n",
    "        j -= 1\n",
    "\n",
    "    #right numbers\n",
    "    j = 2\n",
    "    while j <= i:\n",
    "        print(j,end='')\n",
    "        j += 1\n",
    "\n",
    "    \n",
    "    print()\n",
    "    i += 1\n",
    "    "
   ]
  },
  {
   "cell_type": "raw",
   "id": "1a3561c9-0234-4cf5-8325-ea8559112dd5",
   "metadata": {},
   "source": [
    "Print the following pattern for the given number of rows.\n",
    "\n",
    "Assume N is always odd.\n",
    "\n",
    "Note : There is space after every star. Pattern for N = 7\n",
    "*\n",
    " * *\n",
    "   * * *\n",
    "     * * * *\n",
    "   * * *\n",
    " * *\n",
    "*\n",
    "Detailed explanation ( Input/output format, Notes, Images )\n",
    "Sample Input :\n",
    "11\n",
    "Sample Output :\n",
    "*\n",
    " * *\n",
    "   * * *\n",
    "     * * * *\n",
    "       * * * * *\n",
    "         * * * * * *\n",
    "       * * * * *\n",
    "     * * * *\n",
    "   * * *\n",
    " * *\n",
    "*\n",
    "## Read input as specified in the question.\n",
    "## Print output as specified in the question.\n",
    "\n"
   ]
  },
  {
   "cell_type": "code",
   "execution_count": 143,
   "id": "57efa9db-94f8-4888-9f33-13f90b79432c",
   "metadata": {},
   "outputs": [
    {
     "name": "stdin",
     "output_type": "stream",
     "text": [
      " 11\n"
     ]
    },
    {
     "name": "stdout",
     "output_type": "stream",
     "text": [
      "* \n",
      "  * * \n",
      "    * * * \n",
      "      * * * * \n",
      "        * * * * * \n",
      "          * * * * * * \n",
      "        * * * * * \n",
      "      * * * * \n",
      "    * * * \n",
      "  * * \n",
      "* \n"
     ]
    }
   ],
   "source": [
    "n = int(input())\n",
    "i = 1\n",
    "\n",
    "while i <= n//2 + 1:\n",
    "\n",
    "    #spaces\n",
    "    spaces = 1\n",
    "    while spaces <= i-1:\n",
    "        print(' ',end= ' ')\n",
    "        spaces += 1\n",
    "\n",
    "    #stars\n",
    "    stars = 1\n",
    "    while stars <= i:\n",
    "        print('*',end=' ')\n",
    "        stars += 1\n",
    "\n",
    "    print()\n",
    "    i += 1\n",
    "\n",
    "i = 1\n",
    "while i <= n//2:\n",
    "\n",
    "    #spaces\n",
    "    spaces = 1\n",
    "    while spaces <= n//2 - i:\n",
    "        print(' ', end=' ')\n",
    "        spaces += 1\n",
    "\n",
    "    #stars\n",
    "    stars = 1\n",
    "    while stars <= n//2 - i + 1:\n",
    "        print('*',end= ' ')\n",
    "        stars += 1\n",
    "\n",
    "\n",
    "    print()\n",
    "    i += 1\n",
    "\n"
   ]
  }
 ],
 "metadata": {
  "kernelspec": {
   "display_name": "Python 3 (ipykernel)",
   "language": "python",
   "name": "python3"
  },
  "language_info": {
   "codemirror_mode": {
    "name": "ipython",
    "version": 3
   },
   "file_extension": ".py",
   "mimetype": "text/x-python",
   "name": "python",
   "nbconvert_exporter": "python",
   "pygments_lexer": "ipython3",
   "version": "3.12.7"
  }
 },
 "nbformat": 4,
 "nbformat_minor": 5
}
